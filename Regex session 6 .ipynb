{
 "cells": [
  {
   "cell_type": "markdown",
   "id": "495c5bef",
   "metadata": {},
   "source": [
    "### Python last session "
   ]
  },
  {
   "cell_type": "markdown",
   "id": "7cf1f727",
   "metadata": {},
   "source": [
    "**exception**\n",
    "**<br>List comprehension**\n",
    "**<br>Collection**"
   ]
  },
  {
   "cell_type": "markdown",
   "id": "ec21aaee",
   "metadata": {},
   "source": [
    "exception handling in python"
   ]
  },
  {
   "cell_type": "code",
   "execution_count": 2,
   "id": "fa370bbe",
   "metadata": {},
   "outputs": [
    {
     "ename": "FileNotFoundError",
     "evalue": "[Errno 2] No such file or directory: 'xyz.txt'",
     "output_type": "error",
     "traceback": [
      "\u001b[1;31m---------------------------------------------------------------------------\u001b[0m",
      "\u001b[1;31mFileNotFoundError\u001b[0m                         Traceback (most recent call last)",
      "\u001b[1;32m<ipython-input-2-70cb65d23841>\u001b[0m in \u001b[0;36m<module>\u001b[1;34m\u001b[0m\n\u001b[1;32m----> 1\u001b[1;33m \u001b[0mf\u001b[0m \u001b[1;33m=\u001b[0m \u001b[0mopen\u001b[0m\u001b[1;33m(\u001b[0m\u001b[1;34m'xyz.txt'\u001b[0m\u001b[1;33m)\u001b[0m\u001b[1;33m\u001b[0m\u001b[1;33m\u001b[0m\u001b[0m\n\u001b[0m",
      "\u001b[1;31mFileNotFoundError\u001b[0m: [Errno 2] No such file or directory: 'xyz.txt'"
     ]
    }
   ],
   "source": [
    "f = open('xyz.txt')"
   ]
  },
  {
   "cell_type": "code",
   "execution_count": 3,
   "id": "62638c81",
   "metadata": {},
   "outputs": [
    {
     "ename": "NameError",
     "evalue": "name 'b' is not defined",
     "output_type": "error",
     "traceback": [
      "\u001b[1;31m---------------------------------------------------------------------------\u001b[0m",
      "\u001b[1;31mNameError\u001b[0m                                 Traceback (most recent call last)",
      "\u001b[1;32m<ipython-input-3-9b0b4bf0ab5c>\u001b[0m in \u001b[0;36m<module>\u001b[1;34m\u001b[0m\n\u001b[1;32m----> 1\u001b[1;33m \u001b[0ma\u001b[0m \u001b[1;33m=\u001b[0m \u001b[0mb\u001b[0m\u001b[1;33m+\u001b[0m\u001b[1;36m10\u001b[0m\u001b[1;33m\u001b[0m\u001b[1;33m\u001b[0m\u001b[0m\n\u001b[0m",
      "\u001b[1;31mNameError\u001b[0m: name 'b' is not defined"
     ]
    }
   ],
   "source": [
    "a = b+10"
   ]
  },
  {
   "cell_type": "code",
   "execution_count": 5,
   "id": "e8f7bf73",
   "metadata": {},
   "outputs": [
    {
     "name": "stdout",
     "output_type": "stream",
     "text": [
      "File does not exist\n",
      "Hello\n"
     ]
    }
   ],
   "source": [
    "try:\n",
    "    f = open('xyz.txt')\n",
    "except:\n",
    "    print('File does not exist')\n",
    "print('Hello')"
   ]
  },
  {
   "cell_type": "code",
   "execution_count": 8,
   "id": "56c075aa",
   "metadata": {},
   "outputs": [
    {
     "name": "stdout",
     "output_type": "stream",
     "text": [
      "I dont know whats worng, deal with it yourself\n"
     ]
    }
   ],
   "source": [
    "try:\n",
    "#     f= open('xyz.txt')\n",
    "#     a = a+10\n",
    "    pass\n",
    "except NameError:\n",
    "    print('variable not defined')\n",
    "except FileNotFoundError:\n",
    "    print(\"File does not exist\")\n",
    "else:\n",
    "    print('I dont know whats worng, deal with it yourself')"
   ]
  },
  {
   "cell_type": "code",
   "execution_count": 9,
   "id": "dabeff88",
   "metadata": {},
   "outputs": [
    {
     "data": {
      "text/plain": [
       "'h(x) = 2 * x\\n   g(x) = 3 * x + 1\\n   f(x) = x **2 + 2\\n    f(g(h(x)))\\n    h(g(f(x)))\\n    g(h(f(x)))'"
      ]
     },
     "execution_count": 9,
     "metadata": {},
     "output_type": "execute_result"
    }
   ],
   "source": [
    "'''h(x) = 2 * x\n",
    "   g(x) = 3 * x + 1\n",
    "   f(x) = x **2 + 2\n",
    "    f(g(h(x)))\n",
    "    h(g(f(x)))\n",
    "    g(h(f(x)))'''"
   ]
  },
  {
   "cell_type": "code",
   "execution_count": 10,
   "id": "70085f61",
   "metadata": {},
   "outputs": [],
   "source": [
    "ls = [2*x for x in range(5)]"
   ]
  },
  {
   "cell_type": "code",
   "execution_count": 11,
   "id": "0fedbc3a",
   "metadata": {},
   "outputs": [
    {
     "data": {
      "text/plain": [
       "[0, 2, 4, 6, 8]"
      ]
     },
     "execution_count": 11,
     "metadata": {},
     "output_type": "execute_result"
    }
   ],
   "source": [
    "ls "
   ]
  },
  {
   "cell_type": "code",
   "execution_count": 12,
   "id": "e1fe154e",
   "metadata": {},
   "outputs": [],
   "source": [
    "ls = [3*x+1 for x in [2*x for x in range(5)]]"
   ]
  },
  {
   "cell_type": "code",
   "execution_count": 13,
   "id": "3a1c284f",
   "metadata": {},
   "outputs": [
    {
     "data": {
      "text/plain": [
       "[1, 7, 13, 19, 25]"
      ]
     },
     "execution_count": 13,
     "metadata": {},
     "output_type": "execute_result"
    }
   ],
   "source": [
    "ls \n"
   ]
  },
  {
   "cell_type": "code",
   "execution_count": 16,
   "id": "5fd6c67f",
   "metadata": {},
   "outputs": [],
   "source": [
    "ls = [2*x for x in [3*x+1 for x in range(5)]]"
   ]
  },
  {
   "cell_type": "code",
   "execution_count": 17,
   "id": "e507a73a",
   "metadata": {},
   "outputs": [
    {
     "data": {
      "text/plain": [
       "[2, 8, 14, 20, 26]"
      ]
     },
     "execution_count": 17,
     "metadata": {},
     "output_type": "execute_result"
    }
   ],
   "source": [
    "ls \n"
   ]
  },
  {
   "cell_type": "markdown",
   "id": "6392f373",
   "metadata": {},
   "source": [
    "### Collection\n"
   ]
  },
  {
   "cell_type": "code",
   "execution_count": null,
   "id": "42166ab3",
   "metadata": {},
   "outputs": [],
   "source": []
  }
 ],
 "metadata": {
  "kernelspec": {
   "display_name": "Python 3",
   "language": "python",
   "name": "python3"
  },
  "language_info": {
   "codemirror_mode": {
    "name": "ipython",
    "version": 3
   },
   "file_extension": ".py",
   "mimetype": "text/x-python",
   "name": "python",
   "nbconvert_exporter": "python",
   "pygments_lexer": "ipython3",
   "version": "3.8.8"
  }
 },
 "nbformat": 4,
 "nbformat_minor": 5
}
