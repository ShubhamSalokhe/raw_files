{
 "cells": [
  {
   "cell_type": "code",
   "execution_count": 2,
   "id": "46007589",
   "metadata": {},
   "outputs": [],
   "source": [
    "import numpy as np\n",
    "import matplotlib.pyplot as plt\n",
    "import h5py\n",
    "from PIL import Image \n",
    "from scipy import ndimage"
   ]
  },
  {
   "cell_type": "code",
   "execution_count": 6,
   "id": "61c876e1",
   "metadata": {},
   "outputs": [
    {
     "name": "stdout",
     "output_type": "stream",
     "text": [
      "['list_classes', 'train_set_x', 'train_set_y']\n",
      "(209, 64, 64, 3)\n",
      "(209,)\n"
     ]
    }
   ],
   "source": [
    "with h5py.File('train_catvnoncat.h5') as hdf:\n",
    "    ls = list(hdf.keys())\n",
    "    print(ls)\n",
    "    train_set_x = np.array(hdf.get('train_set_x'))\n",
    "    train_set_y = np.array(hdf.get('train_set_y'))\n",
    "    \n",
    "    print(train_set_x.shape)\n",
    "    print(train_set_y.shape)\n",
    "# (209, 64, 64, 3)\n",
    "# (images ,n ,m, rgb)"
   ]
  },
  {
   "cell_type": "code",
   "execution_count": 7,
   "id": "e60f5d93",
   "metadata": {},
   "outputs": [
    {
     "name": "stdout",
     "output_type": "stream",
     "text": [
      "['list_classes', 'test_set_x', 'test_set_y']\n",
      "(50, 64, 64, 3)\n",
      "(50,)\n"
     ]
    }
   ],
   "source": [
    "with h5py.File('test_catvnoncat.h5') as hdf:\n",
    "    ls = list(hdf.keys())\n",
    "    print(ls)\n",
    "    test_set_x = np.array(hdf.get('test_set_x'))\n",
    "    test_set_y = np.array(hdf.get('test_set_y'))\n",
    "    \n",
    "    print(test_set_x.shape)\n",
    "    print(test_set_y.shape)\n",
    " \n"
   ]
  },
  {
   "cell_type": "code",
   "execution_count": 8,
   "id": "06c59cc9",
   "metadata": {},
   "outputs": [
    {
     "name": "stdout",
     "output_type": "stream",
     "text": [
      "(1, 209)\n",
      "(1, 50)\n"
     ]
    }
   ],
   "source": [
    "# no of images \n",
    "n_train = train_set_x.shape[0] #extracting first value \n",
    "n_test  = test_set_x.shape[0]\n",
    "num_px = train_set_x.shape[1]\n",
    "# 1 st convert (50,) to (1,50) (x,y)\n",
    "train_set_y.shape = (1,n_train)\n",
    "test_set_y.shape = (1,n_test)\n",
    "print(train_set_y.shape)\n",
    "print(test_set_y.shape)"
   ]
  },
  {
   "cell_type": "code",
   "execution_count": 10,
   "id": "a2f55769",
   "metadata": {},
   "outputs": [
    {
     "name": "stdout",
     "output_type": "stream",
     "text": [
      "Number of training examples: m_train = 209\n",
      "Number of testing examples: m_test = 50\n",
      "Height/Width of each image: num_px = 64\n",
      "Each image is of size: (64, 64, 3)\n",
      "train_set_x shape: (209, 64, 64, 3)\n",
      "train_set_y shape: (1, 209)\n"
     ]
    }
   ],
   "source": [
    "print (\"Number of training examples: m_train = \" + str(n_train))\n",
    "print (\"Number of testing examples: m_test = \" + str(n_test))\n",
    "print (\"Height/Width of each image: num_px = \" + str(num_px))\n",
    "print (\"Each image is of size: (\" + str(num_px) + \", \" + str(num_px) + \", 3)\")\n",
    "print (\"train_set_x shape: \" + str(train_set_x.shape))\n",
    "print (\"train_set_y shape: \" + str(train_set_y.shape))\n"
   ]
  },
  {
   "cell_type": "code",
   "execution_count": 11,
   "id": "f9cbcbf1",
   "metadata": {},
   "outputs": [
    {
     "name": "stdout",
     "output_type": "stream",
     "text": [
      "train_set_x_dl shape: (12288, 209)\n",
      "train_set_y shape: (1, 209)\n",
      "test_set_x_dl shape: (12288, 50)\n",
      "train_set_y shape: (1, 50)\n"
     ]
    }
   ],
   "source": [
    "# deep learning / Neural network\n",
    "train_set_x_dl = train_set_x.reshape(num_px * num_px * 3,n_train) # 3 for channesls RGB image\n",
    "test_set_x_dl = test_set_x.reshape(num_px * num_px * 3,n_test) # 3 for channesls RGB image\n",
    "\n",
    "\n",
    "print(\"train_set_x_dl shape: \"+ str(train_set_x_dl.shape))\n",
    "print(\"train_set_y shape: \"+ str(train_set_y.shape))\n",
    "print(\"test_set_x_dl shape: \"+ str(test_set_x_dl.shape))\n",
    "print(\"train_set_y shape: \"+ str(test_set_y.shape))"
   ]
  },
  {
   "cell_type": "code",
   "execution_count": 13,
   "id": "5046a187",
   "metadata": {},
   "outputs": [
    {
     "name": "stdout",
     "output_type": "stream",
     "text": [
      "train_set_x_ml shape: (209, 12288)\n",
      "train_set_y_ml shape: (209, 1)\n",
      "test_set_x_ml shape: (50, 12288)\n",
      "test_set_y_ml shape: (50, 1)\n"
     ]
    }
   ],
   "source": [
    "# for a machine learning alo\n",
    "train_set_x_ml = train_set_x.reshape(n_train, num_px * num_px * 3)\n",
    "test_set_x_ml = test_set_x.reshape(n_test, num_px * num_px * 3 )\n",
    "\n",
    "train_set_y_ml = train_set_y.T # T for transpose \n",
    "test_set_y_ml = test_set_y.T\n",
    "\n",
    "print (\"train_set_x_ml shape: \" + str(train_set_x_ml.shape))\n",
    "print (\"train_set_y_ml shape: \" + str(train_set_y_ml.shape))\n",
    "print (\"test_set_x_ml shape: \" + str(test_set_x_ml.shape))\n",
    "print (\"test_set_y_ml shape: \" + str(test_set_y_ml.shape))"
   ]
  },
  {
   "cell_type": "code",
   "execution_count": null,
   "id": "48488047",
   "metadata": {},
   "outputs": [],
   "source": []
  }
 ],
 "metadata": {
  "kernelspec": {
   "display_name": "Python 3",
   "language": "python",
   "name": "python3"
  },
  "language_info": {
   "codemirror_mode": {
    "name": "ipython",
    "version": 3
   },
   "file_extension": ".py",
   "mimetype": "text/x-python",
   "name": "python",
   "nbconvert_exporter": "python",
   "pygments_lexer": "ipython3",
   "version": "3.8.8"
  }
 },
 "nbformat": 4,
 "nbformat_minor": 5
}
