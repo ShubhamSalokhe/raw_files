{
 "cells": [
  {
   "cell_type": "markdown",
   "id": "cf68c966",
   "metadata": {},
   "source": [
    "Programming Approch\n",
    "<br>input -> program/Instruction -> output<br>"
   ]
  },
  {
   "cell_type": "markdown",
   "id": "06dddc3a",
   "metadata": {},
   "source": [
    "Machine learning approch \n",
    "<br>***input & output-> Machine Learning Algorithm -> Model/rule***"
   ]
  },
  {
   "cell_type": "markdown",
   "id": "0b579f1f",
   "metadata": {},
   "source": [
    "### Machine Learning types"
   ]
  },
  {
   "cell_type": "markdown",
   "id": "6bab57c6",
   "metadata": {},
   "source": [
    "Optimization problem -gradient descent "
   ]
  }
 ],
 "metadata": {
  "kernelspec": {
   "display_name": "Python 3",
   "language": "python",
   "name": "python3"
  },
  "language_info": {
   "codemirror_mode": {
    "name": "ipython",
    "version": 3
   },
   "file_extension": ".py",
   "mimetype": "text/x-python",
   "name": "python",
   "nbconvert_exporter": "python",
   "pygments_lexer": "ipython3",
   "version": "3.8.8"
  }
 },
 "nbformat": 4,
 "nbformat_minor": 5
}
