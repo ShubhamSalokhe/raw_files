{
 "cells": [
  {
   "cell_type": "markdown",
   "id": "93e6ad80",
   "metadata": {},
   "source": [
    "## List Comprehension"
   ]
  },
  {
   "cell_type": "code",
   "execution_count": 73,
   "id": "4cf6f8fa",
   "metadata": {},
   "outputs": [],
   "source": [
    "# list containing the five number \n",
    "\n",
    "list_1 = []\n",
    " \n",
    "for i in range(1,6):\n",
    "    list_1.append(i)"
   ]
  },
  {
   "cell_type": "code",
   "execution_count": 74,
   "id": "8b0d0cac",
   "metadata": {},
   "outputs": [
    {
     "name": "stdout",
     "output_type": "stream",
     "text": [
      "[1, 2, 3, 4, 5]\n"
     ]
    }
   ],
   "source": [
    "print(list_1)"
   ]
  },
  {
   "cell_type": "code",
   "execution_count": 3,
   "id": "8e37ba23",
   "metadata": {},
   "outputs": [],
   "source": [
    "# Let's try the above code using list comprehension \n",
    "\n",
    "lst = [i for i in range(1,6)]"
   ]
  },
  {
   "cell_type": "code",
   "execution_count": 4,
   "id": "e9c3aa9a",
   "metadata": {},
   "outputs": [
    {
     "data": {
      "text/plain": [
       "[1, 2, 3, 4, 5]"
      ]
     },
     "execution_count": 4,
     "metadata": {},
     "output_type": "execute_result"
    }
   ],
   "source": [
    "lst"
   ]
  },
  {
   "cell_type": "code",
   "execution_count": 5,
   "id": "5c778059",
   "metadata": {},
   "outputs": [],
   "source": [
    "# list2 containing the squre of five number \n",
    "\n",
    "list2 = []\n",
    " \n",
    "for i in range(1,6):\n",
    "    list2.append(i**2)\n",
    "    "
   ]
  },
  {
   "cell_type": "code",
   "execution_count": 6,
   "id": "746c6df7",
   "metadata": {},
   "outputs": [
    {
     "name": "stdout",
     "output_type": "stream",
     "text": [
      "[1, 4, 9, 16, 25]\n"
     ]
    }
   ],
   "source": [
    "print(list2)"
   ]
  },
  {
   "cell_type": "code",
   "execution_count": 9,
   "id": "97bd5c59",
   "metadata": {},
   "outputs": [
    {
     "name": "stdout",
     "output_type": "stream",
     "text": [
      "[1, 4, 9, 16, 25]\n"
     ]
    }
   ],
   "source": [
    "#list comprehension\n",
    "\n",
    "lst2 = [i**2 for i in range(1,6)]\n",
    "print(lst2)\n",
    "\n",
    "#SYNTAX : lst = [expression for i in sqquennce]\n",
    "#i.e. for every \"i\" in the 'sequence' apply the 'expression'\n",
    "# and add that expression value to the lst"
   ]
  },
  {
   "cell_type": "code",
   "execution_count": 12,
   "id": "9a567534",
   "metadata": {},
   "outputs": [
    {
     "name": "stdout",
     "output_type": "stream",
     "text": [
      "['P', 'Y', 'T', 'H', 'O', 'N']\n"
     ]
    }
   ],
   "source": [
    "lst = [w for w in \"PYTHON\"]\n",
    "print(lst)\n",
    "# iterating string"
   ]
  },
  {
   "cell_type": "code",
   "execution_count": 14,
   "id": "46e61c2e",
   "metadata": {},
   "outputs": [
    {
     "name": "stdout",
     "output_type": "stream",
     "text": [
      "['P', 'Y', 'T', 'H', 'O', 'N']\n"
     ]
    }
   ],
   "source": [
    "# same thing by for loop or vice varsa \n",
    "lst = []\n",
    "for j in \"PYTHON\":\n",
    "    lst.append(j)\n",
    "print(lst)"
   ]
  },
  {
   "cell_type": "code",
   "execution_count": 15,
   "id": "74480dc3",
   "metadata": {},
   "outputs": [],
   "source": [
    "#list comprehension \n",
    "# reason : Very easy and elegant.\n",
    "# reason : length of the code is going to reduce.\n"
   ]
  },
  {
   "cell_type": "code",
   "execution_count": 16,
   "id": "15da3a9f",
   "metadata": {},
   "outputs": [],
   "source": [
    "# let's now try to apply the condition to \"i\"\n",
    "#lst = [ expression for i in sequence if condition ]\n",
    "# i.e. for every 'i' in the 'sequence' if that 'i' satiesfies the condition , \n",
    "# that apply the 'expression'\n",
    "# and add that expression value to the lst \n"
   ]
  },
  {
   "cell_type": "code",
   "execution_count": 17,
   "id": "2ce3ce41",
   "metadata": {},
   "outputs": [
    {
     "name": "stdout",
     "output_type": "stream",
     "text": [
      "[1, 4, 9, 16, 25, 36, 49, 64, 81, 100, 121, 144, 169, 196, 225, 256, 289, 324, 361, 400, 441, 484, 529, 576, 625, 676, 729, 784, 841]\n"
     ]
    }
   ],
   "source": [
    "lst = [i**2 for i in range(1,30)]\n",
    "print(lst)"
   ]
  },
  {
   "cell_type": "code",
   "execution_count": 20,
   "id": "e490ef2b",
   "metadata": {},
   "outputs": [],
   "source": [
    "# making condition if devided by 2 and value must be integer not float only those number will be added \n",
    "# 1st without list comprehension \n",
    "list1 = []\n",
    "for i in range(1,30):\n",
    "    if i %2 == 0:\n",
    "        squre =i**2\n",
    "        list1.append(squre)"
   ]
  },
  {
   "cell_type": "code",
   "execution_count": 21,
   "id": "87073609",
   "metadata": {},
   "outputs": [
    {
     "data": {
      "text/plain": [
       "[4, 16, 36, 64, 100, 144, 196, 256, 324, 400, 484, 576, 676, 784]"
      ]
     },
     "execution_count": 21,
     "metadata": {},
     "output_type": "execute_result"
    }
   ],
   "source": [
    "list1"
   ]
  },
  {
   "cell_type": "code",
   "execution_count": 22,
   "id": "e2a9f11d",
   "metadata": {},
   "outputs": [],
   "source": [
    "# 2nd using list comprehension \n",
    "lst = [i**2 for i in range(1,30) if i%2 ==0]"
   ]
  },
  {
   "cell_type": "code",
   "execution_count": 23,
   "id": "b2bc764e",
   "metadata": {},
   "outputs": [
    {
     "data": {
      "text/plain": [
       "[4, 16, 36, 64, 100, 144, 196, 256, 324, 400, 484, 576, 676, 784]"
      ]
     },
     "execution_count": 23,
     "metadata": {},
     "output_type": "execute_result"
    }
   ],
   "source": [
    "lst"
   ]
  },
  {
   "cell_type": "code",
   "execution_count": 32,
   "id": "5fd930ae",
   "metadata": {},
   "outputs": [
    {
     "name": "stdout",
     "output_type": "stream",
     "text": [
      "['I', 'S', 'D', 'C']\n"
     ]
    }
   ],
   "source": [
    "sup_hero = [\"Iron Man\", \"Spyderman\",\"Doctor_Strange\", \"Captain_America\"]\n",
    "\n",
    "#try to extract first character of each name into a list\n",
    "\n",
    "lst = [i[0] for i in sup_hero]\n",
    "print(lst)"
   ]
  },
  {
   "cell_type": "code",
   "execution_count": 34,
   "id": "ba211e2f",
   "metadata": {},
   "outputs": [],
   "source": [
    "s = 'the quick brown fox jumps over the lazy dog'\n",
    "\n",
    "# Convert each word into upper case and count the number of characters in each word\n",
    "\n",
    "lst = [[word.upper(), len(word)] for word in s.split(\" \")]"
   ]
  },
  {
   "cell_type": "code",
   "execution_count": 38,
   "id": "c156379c",
   "metadata": {},
   "outputs": [
    {
     "name": "stdout",
     "output_type": "stream",
     "text": [
      "[['THE', 3], ['QUICK', 5], ['BROWN', 5], ['FOX', 3], ['JUMPS', 5], ['OVER', 4], ['THE', 3], ['LAZY', 4], ['DOG', 3]]\n"
     ]
    }
   ],
   "source": [
    "print(lst)"
   ]
  },
  {
   "cell_type": "markdown",
   "id": "9a108d34",
   "metadata": {},
   "source": [
    "## Anonymous Function"
   ]
  },
  {
   "cell_type": "code",
   "execution_count": 39,
   "id": "1f7a50f2",
   "metadata": {},
   "outputs": [],
   "source": [
    "def square(n):\n",
    "    return n**2"
   ]
  },
  {
   "cell_type": "code",
   "execution_count": 41,
   "id": "5f4f0dd3",
   "metadata": {},
   "outputs": [
    {
     "name": "stdout",
     "output_type": "stream",
     "text": [
      "16\n"
     ]
    }
   ],
   "source": [
    "print(square(4))"
   ]
  },
  {
   "cell_type": "code",
   "execution_count": 42,
   "id": "255708f6",
   "metadata": {},
   "outputs": [
    {
     "name": "stdout",
     "output_type": "stream",
     "text": [
      "16\n"
     ]
    }
   ],
   "source": [
    "# introducing lambda function (anonymous function)\n",
    "\n",
    "lam_sq = lambda n: n**2\n",
    "\n",
    "print(lam_sq(4))"
   ]
  },
  {
   "cell_type": "code",
   "execution_count": 43,
   "id": "e2fa4131",
   "metadata": {},
   "outputs": [
    {
     "name": "stdout",
     "output_type": "stream",
     "text": [
      "35\n"
     ]
    }
   ],
   "source": [
    "# product of two numbers \n",
    "prod = lambda x , y :x*y\n",
    "print(prod(5,7))"
   ]
  },
  {
   "cell_type": "code",
   "execution_count": 49,
   "id": "00775749",
   "metadata": {},
   "outputs": [
    {
     "name": "stdout",
     "output_type": "stream",
     "text": [
      "8\n"
     ]
    }
   ],
   "source": [
    "# lager of two numbers \n",
    "# condition  a>b ? a:b\n",
    "# a if  a>b else b\n",
    "def greater_nor(a,b):\n",
    "    if a>b :\n",
    "        return(a)\n",
    "    else:\n",
    "        return b\n",
    "print(greater_nor(5,8))"
   ]
  },
  {
   "cell_type": "code",
   "execution_count": 47,
   "id": "b3014bc6",
   "metadata": {},
   "outputs": [],
   "source": [
    "# lager of two numbers \n",
    "# condition  a>b ? a:b\n",
    "# a if  a>b else b\n",
    "greater  = lambda a, b : a if a>b else b"
   ]
  },
  {
   "cell_type": "code",
   "execution_count": 48,
   "id": "649af612",
   "metadata": {},
   "outputs": [
    {
     "name": "stdout",
     "output_type": "stream",
     "text": [
      "8\n"
     ]
    }
   ],
   "source": [
    "print(greater(5,8))"
   ]
  },
  {
   "cell_type": "markdown",
   "id": "4cd3ad43",
   "metadata": {},
   "source": [
    "## filter()"
   ]
  },
  {
   "cell_type": "code",
   "execution_count": 50,
   "id": "0b1c3457",
   "metadata": {},
   "outputs": [],
   "source": [
    "# suppose we have 10 number, and we want to filter only even number \n",
    "\n",
    "#so based on some condion if we want to filter a perticular group.\n"
   ]
  },
  {
   "cell_type": "code",
   "execution_count": 51,
   "id": "57189fa3",
   "metadata": {},
   "outputs": [],
   "source": [
    "# SYNTAX: filter(function, sequence)\n",
    "# function always return true or false "
   ]
  },
  {
   "cell_type": "code",
   "execution_count": 66,
   "id": "8e31b7fe",
   "metadata": {},
   "outputs": [
    {
     "ename": "TypeError",
     "evalue": "list indices must be integers or slices, not filter",
     "output_type": "error",
     "traceback": [
      "\u001b[1;31m---------------------------------------------------------------------------\u001b[0m",
      "\u001b[1;31mTypeError\u001b[0m                                 Traceback (most recent call last)",
      "\u001b[1;32m<ipython-input-66-6d589741dfd3>\u001b[0m in \u001b[0;36m<module>\u001b[1;34m\u001b[0m\n\u001b[0;32m     11\u001b[0m \u001b[1;31m# print(f)\u001b[0m\u001b[1;33m\u001b[0m\u001b[1;33m\u001b[0m\u001b[1;33m\u001b[0m\u001b[0m\n\u001b[0;32m     12\u001b[0m \u001b[0mf\u001b[0m \u001b[1;33m=\u001b[0m \u001b[0mfilter\u001b[0m\u001b[1;33m(\u001b[0m\u001b[0misEven\u001b[0m\u001b[1;33m,\u001b[0m \u001b[0mlst\u001b[0m\u001b[1;33m)\u001b[0m\u001b[1;33m\u001b[0m\u001b[1;33m\u001b[0m\u001b[0m\n\u001b[1;32m---> 13\u001b[1;33m \u001b[0mprint\u001b[0m\u001b[1;33m(\u001b[0m\u001b[0mlist\u001b[0m\u001b[1;33m[\u001b[0m\u001b[0mf\u001b[0m\u001b[1;33m]\u001b[0m\u001b[1;33m)\u001b[0m\u001b[1;33m\u001b[0m\u001b[1;33m\u001b[0m\u001b[0m\n\u001b[0m",
      "\u001b[1;31mTypeError\u001b[0m: list indices must be integers or slices, not filter"
     ]
    }
   ],
   "source": [
    "def isEven(x):\n",
    "    if x%2 ==0:\n",
    "        return True\n",
    "    else:\n",
    "        return False\n",
    "    \n",
    "lst =[i for i in range(0,11)]\n",
    "# or lst =[0,1,2,3,4,5,6,7,8,9,10]\n",
    "\n",
    "# f = list(filter(isEven,lst))\n",
    "# print(f)\n",
    "f = filter(isEven, lst)\n",
    "print(list[f])"
   ]
  },
  {
   "cell_type": "code",
   "execution_count": 67,
   "id": "4b643b2d",
   "metadata": {},
   "outputs": [
    {
     "ename": "TypeError",
     "evalue": "'list' object is not callable",
     "output_type": "error",
     "traceback": [
      "\u001b[1;31m---------------------------------------------------------------------------\u001b[0m",
      "\u001b[1;31mTypeError\u001b[0m                                 Traceback (most recent call last)",
      "\u001b[1;32m<ipython-input-67-1c2172c1f3ca>\u001b[0m in \u001b[0;36m<module>\u001b[1;34m\u001b[0m\n\u001b[0;32m      8\u001b[0m \u001b[0mlst\u001b[0m \u001b[1;33m=\u001b[0m \u001b[1;33m[\u001b[0m\u001b[1;36m0\u001b[0m\u001b[1;33m,\u001b[0m\u001b[1;36m1\u001b[0m\u001b[1;33m,\u001b[0m\u001b[1;36m2\u001b[0m\u001b[1;33m,\u001b[0m\u001b[1;36m3\u001b[0m\u001b[1;33m,\u001b[0m\u001b[1;36m4\u001b[0m\u001b[1;33m,\u001b[0m\u001b[1;36m5\u001b[0m\u001b[1;33m,\u001b[0m\u001b[1;36m6\u001b[0m\u001b[1;33m,\u001b[0m\u001b[1;36m7\u001b[0m\u001b[1;33m,\u001b[0m\u001b[1;36m8\u001b[0m\u001b[1;33m,\u001b[0m\u001b[1;36m9\u001b[0m\u001b[1;33m,\u001b[0m\u001b[1;36m10\u001b[0m\u001b[1;33m]\u001b[0m\u001b[1;33m\u001b[0m\u001b[1;33m\u001b[0m\u001b[0m\n\u001b[0;32m      9\u001b[0m \u001b[1;33m\u001b[0m\u001b[0m\n\u001b[1;32m---> 10\u001b[1;33m \u001b[0mf\u001b[0m \u001b[1;33m=\u001b[0m \u001b[0mlist\u001b[0m\u001b[1;33m(\u001b[0m\u001b[0mfilter\u001b[0m\u001b[1;33m(\u001b[0m\u001b[0misEven\u001b[0m\u001b[1;33m,\u001b[0m \u001b[0mlst\u001b[0m\u001b[1;33m)\u001b[0m\u001b[1;33m)\u001b[0m\u001b[1;33m\u001b[0m\u001b[1;33m\u001b[0m\u001b[0m\n\u001b[0m\u001b[0;32m     11\u001b[0m \u001b[1;33m\u001b[0m\u001b[0m\n\u001b[0;32m     12\u001b[0m \u001b[0mprint\u001b[0m\u001b[1;33m(\u001b[0m\u001b[0mf\u001b[0m\u001b[1;33m)\u001b[0m\u001b[1;33m\u001b[0m\u001b[1;33m\u001b[0m\u001b[0m\n",
      "\u001b[1;31mTypeError\u001b[0m: 'list' object is not callable"
     ]
    }
   ],
   "source": [
    "def isEven(x):\n",
    "    if x%2==0:\n",
    "        return True\n",
    "    else:\n",
    "        return False\n",
    "    \n",
    "\n",
    "lst = [0,1,2,3,4,5,6,7,8,9,10]\n",
    "\n",
    "f = list(filter(isEven, lst))\n",
    "\n",
    "print(f)"
   ]
  },
  {
   "cell_type": "code",
   "execution_count": 70,
   "id": "98e61374",
   "metadata": {},
   "outputs": [
    {
     "data": {
      "text/plain": [
       "[1, 2, 3, 4, 5]"
      ]
     },
     "execution_count": 70,
     "metadata": {},
     "output_type": "execute_result"
    }
   ],
   "source": [
    "list"
   ]
  },
  {
   "cell_type": "code",
   "execution_count": 68,
   "id": "0cb84c82",
   "metadata": {},
   "outputs": [],
   "source": [
    "lst = [i for i in range(0,11)]"
   ]
  },
  {
   "cell_type": "code",
   "execution_count": 69,
   "id": "49e7905b",
   "metadata": {},
   "outputs": [
    {
     "ename": "TypeError",
     "evalue": "'list' object is not callable",
     "output_type": "error",
     "traceback": [
      "\u001b[1;31m---------------------------------------------------------------------------\u001b[0m",
      "\u001b[1;31mTypeError\u001b[0m                                 Traceback (most recent call last)",
      "\u001b[1;32m<ipython-input-69-ca61d83ef8f6>\u001b[0m in \u001b[0;36m<module>\u001b[1;34m\u001b[0m\n\u001b[1;32m----> 1\u001b[1;33m \u001b[0mf\u001b[0m \u001b[1;33m=\u001b[0m \u001b[0mlist\u001b[0m\u001b[1;33m(\u001b[0m\u001b[0mfilter\u001b[0m\u001b[1;33m(\u001b[0m\u001b[1;32mlambda\u001b[0m \u001b[0mx\u001b[0m\u001b[1;33m:\u001b[0m \u001b[0mx\u001b[0m\u001b[1;33m%\u001b[0m\u001b[1;36m2\u001b[0m \u001b[1;33m==\u001b[0m\u001b[1;36m0\u001b[0m\u001b[1;33m,\u001b[0m \u001b[0mlst\u001b[0m\u001b[1;33m)\u001b[0m\u001b[1;33m)\u001b[0m\u001b[1;33m\u001b[0m\u001b[1;33m\u001b[0m\u001b[0m\n\u001b[0m",
      "\u001b[1;31mTypeError\u001b[0m: 'list' object is not callable"
     ]
    }
   ],
   "source": [
    "f = list(filter(lambda x: x%2 ==0, lst))"
   ]
  },
  {
   "cell_type": "code",
   "execution_count": 75,
   "id": "1e1ac2bb",
   "metadata": {},
   "outputs": [
    {
     "data": {
      "text/plain": [
       "[1, 2, 3, 4, 5, 1, 2, 3, 4, 5]"
      ]
     },
     "execution_count": 75,
     "metadata": {},
     "output_type": "execute_result"
    }
   ],
   "source": [
    "list"
   ]
  },
  {
   "cell_type": "code",
   "execution_count": 76,
   "id": "614bf3e4",
   "metadata": {},
   "outputs": [],
   "source": [
    "del(list)"
   ]
  },
  {
   "cell_type": "code",
   "execution_count": 78,
   "id": "c28350e2",
   "metadata": {},
   "outputs": [
    {
     "name": "stdout",
     "output_type": "stream",
     "text": [
      "[0, 2, 4, 6, 8, 10]\n"
     ]
    }
   ],
   "source": [
    "def isEven(x):\n",
    "    if x%2 ==0:\n",
    "        return True\n",
    "    else:\n",
    "        return False\n",
    "    \n",
    "lst =[i for i in range(0,11)]\n",
    "# or lst =[0,1,2,3,4,5,6,7,8,9,10]\n",
    "\n",
    "# f = list(filter(isEven,lst))\n",
    "# print(f)\n",
    "f = filter(isEven, lst)\n",
    "print(list(f))"
   ]
  },
  {
   "cell_type": "markdown",
   "id": "3ab73786",
   "metadata": {},
   "source": [
    "## map()\n"
   ]
  },
  {
   "cell_type": "code",
   "execution_count": 79,
   "id": "d89300cc",
   "metadata": {},
   "outputs": [],
   "source": [
    "# If the requirement is to map each value of sequence to something\n",
    "# let's say, we want to find the double of each element in a squence \n",
    "# syntax : map(function, sequence)"
   ]
  },
  {
   "cell_type": "code",
   "execution_count": 81,
   "id": "95d50537",
   "metadata": {},
   "outputs": [
    {
     "name": "stdout",
     "output_type": "stream",
     "text": [
      "[2, 4, 6, 8, 10]\n"
     ]
    }
   ],
   "source": [
    "def double(x):\n",
    "    return 2*x\n",
    "lst = [i for i in range(1,6)]\n",
    "\n",
    "d = list(map(double,lst))\n",
    "print(d)"
   ]
  },
  {
   "cell_type": "code",
   "execution_count": 85,
   "id": "6b82551c",
   "metadata": {},
   "outputs": [
    {
     "ename": "AttributeError",
     "evalue": "'list' object has no attribute 'map'",
     "output_type": "error",
     "traceback": [
      "\u001b[1;31m---------------------------------------------------------------------------\u001b[0m",
      "\u001b[1;31mAttributeError\u001b[0m                            Traceback (most recent call last)",
      "\u001b[1;32m<ipython-input-85-83914641a71a>\u001b[0m in \u001b[0;36m<module>\u001b[1;34m\u001b[0m\n\u001b[0;32m      1\u001b[0m \u001b[0mlst_1\u001b[0m \u001b[1;33m=\u001b[0m\u001b[1;33m[\u001b[0m\u001b[1;34m'high'\u001b[0m\u001b[1;33m,\u001b[0m \u001b[1;34m'medium'\u001b[0m\u001b[1;33m,\u001b[0m \u001b[1;34m'low'\u001b[0m\u001b[1;33m]\u001b[0m\u001b[1;33m\u001b[0m\u001b[1;33m\u001b[0m\u001b[0m\n\u001b[1;32m----> 2\u001b[1;33m \u001b[0mlst_2\u001b[0m\u001b[1;33m=\u001b[0m\u001b[0mlst_1\u001b[0m\u001b[1;33m.\u001b[0m\u001b[0mmap\u001b[0m\u001b[1;33m(\u001b[0m\u001b[1;33m{\u001b[0m\u001b[1;34m\"high\"\u001b[0m\u001b[1;33m:\u001b[0m\u001b[1;36m2\u001b[0m\u001b[1;33m,\u001b[0m \u001b[1;34m\"medium\"\u001b[0m\u001b[1;33m:\u001b[0m\u001b[1;36m1\u001b[0m\u001b[1;33m,\u001b[0m \u001b[1;34m\"low\"\u001b[0m\u001b[1;33m:\u001b[0m\u001b[1;36m0\u001b[0m\u001b[1;33m}\u001b[0m\u001b[1;33m)\u001b[0m\u001b[1;33m.\u001b[0m\u001b[0mastype\u001b[0m\u001b[1;33m(\u001b[0m\u001b[0mint\u001b[0m\u001b[1;33m)\u001b[0m\u001b[1;33m\u001b[0m\u001b[1;33m\u001b[0m\u001b[0m\n\u001b[0m\u001b[0;32m      3\u001b[0m \u001b[0mlst_2\u001b[0m\u001b[1;33m\u001b[0m\u001b[1;33m\u001b[0m\u001b[0m\n",
      "\u001b[1;31mAttributeError\u001b[0m: 'list' object has no attribute 'map'"
     ]
    }
   ],
   "source": [
    "lst_1 =['high', 'medium', 'low']\n",
    "lst_2=lst_1.map({\"high\":2, \"medium\":1, \"low\":0}).astype(int)\n",
    "lst_2"
   ]
  },
  {
   "cell_type": "code",
   "execution_count": 86,
   "id": "5c5a1e97",
   "metadata": {},
   "outputs": [
    {
     "name": "stdout",
     "output_type": "stream",
     "text": [
      "[12, 14, 16, 18, 20]\n"
     ]
    }
   ],
   "source": [
    "# lambda with map \n",
    "lst = [6,7,8,9,10]\n",
    "d  = list(map(lambda x:2*x, lst))\n",
    "print(d)"
   ]
  },
  {
   "cell_type": "code",
   "execution_count": 87,
   "id": "d84cc4c6",
   "metadata": {},
   "outputs": [
    {
     "data": {
      "text/plain": [
       "[4, 10, 18]"
      ]
     },
     "execution_count": 87,
     "metadata": {},
     "output_type": "execute_result"
    }
   ],
   "source": [
    "# multiply two list element wise\n",
    "\n",
    "lst_1 = [1,2,3,10]\n",
    "lst_2 = [4,5,6]\n",
    "\n",
    "\n",
    "lst_3 = list(map(lambda x, y :x*y, lst_1,lst_2))\n",
    "lst_3"
   ]
  },
  {
   "cell_type": "markdown",
   "id": "e5981c90",
   "metadata": {},
   "source": [
    "## reduce()"
   ]
  },
  {
   "cell_type": "code",
   "execution_count": 88,
   "id": "c5188e0a",
   "metadata": {},
   "outputs": [],
   "source": [
    "# reduce() function reduces seauence of elements into a sigle\n",
    "# element by applying the specified function \n",
    "\n",
    "# reduce() function present in functools module"
   ]
  },
  {
   "cell_type": "code",
   "execution_count": 89,
   "id": "031e91db",
   "metadata": {},
   "outputs": [
    {
     "name": "stdout",
     "output_type": "stream",
     "text": [
      "28\n"
     ]
    }
   ],
   "source": [
    "from functools import *\n",
    "\n",
    "\n",
    "lst = [1,2,3,4 ,5,6,7]\n",
    "r = reduce(lambda x,y : x+y,lst)\n",
    "print(r)"
   ]
  },
  {
   "cell_type": "markdown",
   "id": "58938b6c",
   "metadata": {},
   "source": [
    "## Function Aliasing"
   ]
  },
  {
   "cell_type": "code",
   "execution_count": 90,
   "id": "7c7495a0",
   "metadata": {},
   "outputs": [
    {
     "name": "stdout",
     "output_type": "stream",
     "text": [
      "25\n",
      "25\n"
     ]
    }
   ],
   "source": [
    "def sq(n):\n",
    "    return n*n\n",
    "\n",
    "new_sq = sq\n",
    "print(new_sq(5))\n",
    "\n",
    "print(sq(5))"
   ]
  },
  {
   "cell_type": "code",
   "execution_count": 93,
   "id": "eb35eee9",
   "metadata": {},
   "outputs": [
    {
     "name": "stdout",
     "output_type": "stream",
     "text": [
      "hello world!!\n",
      "hello world!!\n"
     ]
    }
   ],
   "source": [
    "def fun():\n",
    "    return \"hello world!!\"\n",
    "\n",
    "#what is difference between following lines?\n",
    "\n",
    "#f1 = fun\n",
    "f1= fun()\n",
    "print(f1)\n",
    "print(fun())"
   ]
  },
  {
   "cell_type": "code",
   "execution_count": null,
   "id": "7d202607",
   "metadata": {},
   "outputs": [],
   "source": [
    "#"
   ]
  }
 ],
 "metadata": {
  "kernelspec": {
   "display_name": "Python 3",
   "language": "python",
   "name": "python3"
  },
  "language_info": {
   "codemirror_mode": {
    "name": "ipython",
    "version": 3
   },
   "file_extension": ".py",
   "mimetype": "text/x-python",
   "name": "python",
   "nbconvert_exporter": "python",
   "pygments_lexer": "ipython3",
   "version": "3.8.8"
  }
 },
 "nbformat": 4,
 "nbformat_minor": 5
}
