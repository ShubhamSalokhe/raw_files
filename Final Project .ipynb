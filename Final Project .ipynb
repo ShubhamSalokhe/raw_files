{
 "cells": [
  {
   "cell_type": "code",
   "execution_count": 1,
   "id": "580ecb01",
   "metadata": {},
   "outputs": [],
   "source": [
    "#importing required libraries\n",
    " \n",
    "from matplotlib.pylab import rcParams\n",
    "rcParams['figure.figsize'] = 20,10\n",
    "\n",
    "from sklearn.preprocessing import MinMaxScaler\n",
    "\n",
    "from keras.models import Sequential\n",
    "from keras.layers import Dense, Dropout, LSTM"
   ]
  },
  {
   "cell_type": "code",
   "execution_count": 2,
   "id": "fecc2c99",
   "metadata": {},
   "outputs": [],
   "source": [
    "# importing data data\n",
    "df = pd.read_csv('TATAMOTORS.csv')"
   ]
  },
  {
   "cell_type": "code",
   "execution_count": 3,
   "id": "0e14cc60",
   "metadata": {},
   "outputs": [
    {
     "data": {
      "text/html": [
       "<div>\n",
       "<style scoped>\n",
       "    .dataframe tbody tr th:only-of-type {\n",
       "        vertical-align: middle;\n",
       "    }\n",
       "\n",
       "    .dataframe tbody tr th {\n",
       "        vertical-align: top;\n",
       "    }\n",
       "\n",
       "    .dataframe thead th {\n",
       "        text-align: right;\n",
       "    }\n",
       "</style>\n",
       "<table border=\"1\" class=\"dataframe\">\n",
       "  <thead>\n",
       "    <tr style=\"text-align: right;\">\n",
       "      <th></th>\n",
       "      <th>Date</th>\n",
       "      <th>series</th>\n",
       "      <th>OPEN</th>\n",
       "      <th>HIGH</th>\n",
       "      <th>LOW</th>\n",
       "      <th>PREV. CLOSE</th>\n",
       "      <th>ltp</th>\n",
       "      <th>close</th>\n",
       "      <th>vwap</th>\n",
       "      <th>52W H</th>\n",
       "      <th>52W L</th>\n",
       "      <th>VOLUME</th>\n",
       "      <th>VALUE</th>\n",
       "      <th>No of trades</th>\n",
       "    </tr>\n",
       "  </thead>\n",
       "  <tbody>\n",
       "    <tr>\n",
       "      <th>0</th>\n",
       "      <td>11-Oct-2021</td>\n",
       "      <td>EQ</td>\n",
       "      <td>390.15</td>\n",
       "      <td>420.90</td>\n",
       "      <td>388.00</td>\n",
       "      <td>382.95</td>\n",
       "      <td>417.8</td>\n",
       "      <td>415.75</td>\n",
       "      <td>411.01</td>\n",
       "      <td>420.90</td>\n",
       "      <td>126.0</td>\n",
       "      <td>113404983</td>\n",
       "      <td>46,610,095,970.25</td>\n",
       "      <td>834399</td>\n",
       "    </tr>\n",
       "    <tr>\n",
       "      <th>1</th>\n",
       "      <td>08-Oct-2021</td>\n",
       "      <td>EQ</td>\n",
       "      <td>385.90</td>\n",
       "      <td>397.55</td>\n",
       "      <td>380.00</td>\n",
       "      <td>376.50</td>\n",
       "      <td>382.8</td>\n",
       "      <td>382.95</td>\n",
       "      <td>386.46</td>\n",
       "      <td>397.55</td>\n",
       "      <td>126.0</td>\n",
       "      <td>93728117</td>\n",
       "      <td>36,222,633,520.35</td>\n",
       "      <td>714038</td>\n",
       "    </tr>\n",
       "    <tr>\n",
       "      <th>2</th>\n",
       "      <td>07-Oct-2021</td>\n",
       "      <td>EQ</td>\n",
       "      <td>341.10</td>\n",
       "      <td>383.00</td>\n",
       "      <td>339.25</td>\n",
       "      <td>336.05</td>\n",
       "      <td>378.5</td>\n",
       "      <td>376.50</td>\n",
       "      <td>368.30</td>\n",
       "      <td>383.00</td>\n",
       "      <td>126.0</td>\n",
       "      <td>163238084</td>\n",
       "      <td>60,120,343,470.50</td>\n",
       "      <td>1028809</td>\n",
       "    </tr>\n",
       "    <tr>\n",
       "      <th>3</th>\n",
       "      <td>06-Oct-2021</td>\n",
       "      <td>EQ</td>\n",
       "      <td>347.00</td>\n",
       "      <td>348.70</td>\n",
       "      <td>335.00</td>\n",
       "      <td>344.95</td>\n",
       "      <td>335.6</td>\n",
       "      <td>336.05</td>\n",
       "      <td>340.48</td>\n",
       "      <td>360.75</td>\n",
       "      <td>126.0</td>\n",
       "      <td>25272592</td>\n",
       "      <td>8,604,815,719.30</td>\n",
       "      <td>213910</td>\n",
       "    </tr>\n",
       "    <tr>\n",
       "      <th>4</th>\n",
       "      <td>05-Oct-2021</td>\n",
       "      <td>EQ</td>\n",
       "      <td>340.45</td>\n",
       "      <td>351.50</td>\n",
       "      <td>338.85</td>\n",
       "      <td>342.00</td>\n",
       "      <td>345.0</td>\n",
       "      <td>344.95</td>\n",
       "      <td>346.53</td>\n",
       "      <td>360.75</td>\n",
       "      <td>126.0</td>\n",
       "      <td>31861985</td>\n",
       "      <td>11,041,234,205.50</td>\n",
       "      <td>266202</td>\n",
       "    </tr>\n",
       "  </tbody>\n",
       "</table>\n",
       "</div>"
      ],
      "text/plain": [
       "         Date  series    OPEN    HIGH     LOW   PREV. CLOSE    ltp   close   \\\n",
       "0  11-Oct-2021      EQ  390.15  420.90  388.00        382.95  417.8  415.75   \n",
       "1  08-Oct-2021      EQ  385.90  397.55  380.00        376.50  382.8  382.95   \n",
       "2  07-Oct-2021      EQ  341.10  383.00  339.25        336.05  378.5  376.50   \n",
       "3  06-Oct-2021      EQ  347.00  348.70  335.00        344.95  335.6  336.05   \n",
       "4  05-Oct-2021      EQ  340.45  351.50  338.85        342.00  345.0  344.95   \n",
       "\n",
       "    vwap   52W H   52W L     VOLUME              VALUE   No of trades   \n",
       "0  411.01  420.90   126.0  113404983  46,610,095,970.25         834399  \n",
       "1  386.46  397.55   126.0   93728117  36,222,633,520.35         714038  \n",
       "2  368.30  383.00   126.0  163238084  60,120,343,470.50        1028809  \n",
       "3  340.48  360.75   126.0   25272592   8,604,815,719.30         213910  \n",
       "4  346.53  360.75   126.0   31861985  11,041,234,205.50         266202  "
      ]
     },
     "execution_count": 3,
     "metadata": {},
     "output_type": "execute_result"
    }
   ],
   "source": [
    "df.head(5)"
   ]
  },
  {
   "cell_type": "code",
   "execution_count": 4,
   "id": "789257c1",
   "metadata": {},
   "outputs": [
    {
     "data": {
      "text/plain": [
       "Index(['Date ', 'series ', 'OPEN ', 'HIGH ', 'LOW ', 'PREV. CLOSE ', 'ltp ',\n",
       "       'close ', 'vwap ', '52W H ', '52W L ', 'VOLUME ', 'VALUE ',\n",
       "       'No of trades '],\n",
       "      dtype='object')"
      ]
     },
     "execution_count": 4,
     "metadata": {},
     "output_type": "execute_result"
    }
   ],
   "source": [
    "df.columns"
   ]
  },
  {
   "cell_type": "code",
   "execution_count": 5,
   "id": "93e054e7",
   "metadata": {},
   "outputs": [],
   "source": [
    "df_train =df.loc[::-1].reset_index(drop=True)"
   ]
  },
  {
   "cell_type": "markdown",
   "id": "917a34c0",
   "metadata": {},
   "source": [
    "### We will implement this technique on our dataset. The first step is to create a dataframe that contains only the Date and Close price columns, then split it into train and validation sets to verify our predictions."
   ]
  },
  {
   "cell_type": "code",
   "execution_count": 6,
   "id": "6e8a06c7",
   "metadata": {},
   "outputs": [
    {
     "data": {
      "text/plain": [
       "0      135.90\n",
       "1      134.10\n",
       "2      130.70\n",
       "3      126.95\n",
       "4      127.75\n",
       "        ...  \n",
       "244    344.95\n",
       "245    336.05\n",
       "246    376.50\n",
       "247    382.95\n",
       "248    415.75\n",
       "Name: close , Length: 249, dtype: float64"
      ]
     },
     "execution_count": 6,
     "metadata": {},
     "output_type": "execute_result"
    }
   ],
   "source": [
    "df_train['close ']"
   ]
  },
  {
   "cell_type": "code",
   "execution_count": 10,
   "id": "04596ad1",
   "metadata": {},
   "outputs": [
    {
     "data": {
      "text/plain": [
       "[<matplotlib.lines.Line2D at 0x22dc0bb8970>]"
      ]
     },
     "execution_count": 10,
     "metadata": {},
     "output_type": "execute_result"
    },
    {
     "data": {
      "image/png": "[encoded data removed]",
      "text/plain": [
       "<Figure size 1440x720 with 1 Axes>"
      ]
     },
     "metadata": {
      "needs_background": "light"
     },
     "output_type": "display_data"
    }
   ],
   "source": [
    "df1 =df_train['close ']\n",
    "plt.plot(df1)"
   ]
  },
  {
   "cell_type": "code",
   "execution_count": 8,
   "id": "4c8a855d",
   "metadata": {},
   "outputs": [],
   "source": [
    "### LSTM are sensitive to the scale of the data. so we apply MinMax scaler"
   ]
  },
  {
   "cell_type": "code",
   "execution_count": 11,
   "id": "cdab384d",
   "metadata": {},
   "outputs": [],
   "source": [
    "scaler = MinMaxScaler(feature_range=(0,1))\n",
    "df1 = scaler.fit_transform(np.array(df1).reshape(-1,1))"
   ]
  },
  {
   "cell_type": "code",
   "execution_count": 12,
   "id": "530d1a69",
   "metadata": {},
   "outputs": [
    {
     "data": {
      "text/plain": [
       "array([[0.0309903 ],\n",
       "       [0.02475762],\n",
       "       [0.01298476],\n",
       "       [0.        ],\n",
       "       [0.00277008],\n",
       "       [0.00450139],\n",
       "       [0.00934903],\n",
       "       [0.01142659],\n",
       "       [0.02268006],\n",
       "       [0.03479917],\n",
       "       [0.02337258],\n",
       "       [0.03012465],\n",
       "       [0.02718144],\n",
       "       [0.01713989],\n",
       "       [0.01973684],\n",
       "       [0.02042936],\n",
       "       [0.02475762],\n",
       "       [0.0309903 ],\n",
       "       [0.03704986],\n",
       "       [0.04172438],\n",
       "       [0.04864958],\n",
       "       [0.0659626 ],\n",
       "       [0.08310249],\n",
       "       [0.08396814],\n",
       "       [0.06717452],\n",
       "       [0.07583102],\n",
       "       [0.10751385],\n",
       "       [0.16118421],\n",
       "       [0.14196676],\n",
       "       [0.14594875],\n",
       "       [0.15148892],\n",
       "       [0.15616343],\n",
       "       [0.15408587],\n",
       "       [0.16204986],\n",
       "       [0.18490305],\n",
       "       [0.18282548],\n",
       "       [0.19615651],\n",
       "       [0.20048476],\n",
       "       [0.19806094],\n",
       "       [0.19598338],\n",
       "       [0.18992382],\n",
       "       [0.19304017],\n",
       "       [0.17538089],\n",
       "       [0.17970914],\n",
       "       [0.17555402],\n",
       "       [0.17988227],\n",
       "       [0.19252078],\n",
       "       [0.18957756],\n",
       "       [0.18559557],\n",
       "       [0.13019391],\n",
       "       [0.13157895],\n",
       "       [0.14629501],\n",
       "       [0.16966759],\n",
       "       [0.20567867],\n",
       "       [0.19563712],\n",
       "       [0.19806094],\n",
       "       [0.19702216],\n",
       "       [0.20619806],\n",
       "       [0.22281856],\n",
       "       [0.22939751],\n",
       "       [0.23701524],\n",
       "       [0.24168975],\n",
       "       [0.2465374 ],\n",
       "       [0.32444598],\n",
       "       [0.38382964],\n",
       "       [0.40045014],\n",
       "       [0.40910665],\n",
       "       [0.46173823],\n",
       "       [0.41204986],\n",
       "       [0.45602493],\n",
       "       [0.51229224],\n",
       "       [0.56665512],\n",
       "       [0.56232687],\n",
       "       [0.52700831],\n",
       "       [0.48666898],\n",
       "       [0.48424515],\n",
       "       [0.47004848],\n",
       "       [0.52856648],\n",
       "       [0.67538089],\n",
       "       [0.70654432],\n",
       "       [0.68975069],\n",
       "       [0.654259  ],\n",
       "       [0.72368421],\n",
       "       [0.68594183],\n",
       "       [0.69927285],\n",
       "       [0.6857687 ],\n",
       "       [0.68715374],\n",
       "       [0.71468144],\n",
       "       [0.70031163],\n",
       "       [0.70360111],\n",
       "       [0.6817867 ],\n",
       "       [0.64023546],\n",
       "       [0.61478532],\n",
       "       [0.68230609],\n",
       "       [0.67416898],\n",
       "       [0.71398892],\n",
       "       [0.67867036],\n",
       "       [0.69719529],\n",
       "       [0.75761773],\n",
       "       [0.76713989],\n",
       "       [0.73493767],\n",
       "       [0.68628809],\n",
       "       [0.67278393],\n",
       "       [0.65183518],\n",
       "       [0.67347645],\n",
       "       [0.6599723 ],\n",
       "       [0.6634349 ],\n",
       "       [0.66828255],\n",
       "       [0.6192867 ],\n",
       "       [0.62344183],\n",
       "       [0.63019391],\n",
       "       [0.60976454],\n",
       "       [0.62482687],\n",
       "       [0.57998615],\n",
       "       [0.54916898],\n",
       "       [0.58673823],\n",
       "       [0.58898892],\n",
       "       [0.60543629],\n",
       "       [0.62603878],\n",
       "       [0.61668975],\n",
       "       [0.62603878],\n",
       "       [0.62621191],\n",
       "       [0.64750693],\n",
       "       [0.66222299],\n",
       "       [0.55263158],\n",
       "       [0.60907202],\n",
       "       [0.61132271],\n",
       "       [0.63382964],\n",
       "       [0.60405125],\n",
       "       [0.59245152],\n",
       "       [0.58033241],\n",
       "       [0.57842798],\n",
       "       [0.58327562],\n",
       "       [0.60439751],\n",
       "       [0.61963296],\n",
       "       [0.60578255],\n",
       "       [0.57790859],\n",
       "       [0.57496537],\n",
       "       [0.56267313],\n",
       "       [0.56977147],\n",
       "       [0.60353186],\n",
       "       [0.60872576],\n",
       "       [0.65062327],\n",
       "       [0.65304709],\n",
       "       [0.6892313 ],\n",
       "       [0.6416205 ],\n",
       "       [0.67226454],\n",
       "       [0.7115651 ],\n",
       "       [0.64923823],\n",
       "       [0.62586565],\n",
       "       [0.64456371],\n",
       "       [0.64023546],\n",
       "       [0.65200831],\n",
       "       [0.65287396],\n",
       "       [0.66360803],\n",
       "       [0.66412742],\n",
       "       [0.66412742],\n",
       "       [0.66187673],\n",
       "       [0.67884349],\n",
       "       [0.68801939],\n",
       "       [0.72022161],\n",
       "       [0.75675208],\n",
       "       [0.78185596],\n",
       "       [0.74930748],\n",
       "       [0.75415512],\n",
       "       [0.77493075],\n",
       "       [0.79293629],\n",
       "       [0.78168283],\n",
       "       [0.7700831 ],\n",
       "       [0.75727147],\n",
       "       [0.72870499],\n",
       "       [0.71797091],\n",
       "       [0.73043629],\n",
       "       [0.72126039],\n",
       "       [0.71918283],\n",
       "       [0.73649584],\n",
       "       [0.74740305],\n",
       "       [0.74307479],\n",
       "       [0.73632271],\n",
       "       [0.75242382],\n",
       "       [0.75467452],\n",
       "       [0.75882964],\n",
       "       [0.65772161],\n",
       "       [0.65841413],\n",
       "       [0.62119114],\n",
       "       [0.62101801],\n",
       "       [0.625     ],\n",
       "       [0.63711911],\n",
       "       [0.63227147],\n",
       "       [0.63469529],\n",
       "       [0.63815789],\n",
       "       [0.62984765],\n",
       "       [0.6066482 ],\n",
       "       [0.60803324],\n",
       "       [0.58379501],\n",
       "       [0.57548476],\n",
       "       [0.56942521],\n",
       "       [0.54536011],\n",
       "       [0.57461911],\n",
       "       [0.57825485],\n",
       "       [0.5882964 ],\n",
       "       [0.61201524],\n",
       "       [0.59279778],\n",
       "       [0.59816482],\n",
       "       [0.59937673],\n",
       "       [0.59262465],\n",
       "       [0.5791205 ],\n",
       "       [0.58344875],\n",
       "       [0.61997922],\n",
       "       [0.62430748],\n",
       "       [0.61201524],\n",
       "       [0.59123961],\n",
       "       [0.57617729],\n",
       "       [0.5406856 ],\n",
       "       [0.51939058],\n",
       "       [0.529259  ],\n",
       "       [0.54518698],\n",
       "       [0.54484072],\n",
       "       [0.5498615 ],\n",
       "       [0.57132964],\n",
       "       [0.55522853],\n",
       "       [0.58275623],\n",
       "       [0.57548476],\n",
       "       [0.58379501],\n",
       "       [0.59037396],\n",
       "       [0.58050554],\n",
       "       [0.58275623],\n",
       "       [0.59556787],\n",
       "       [0.60335873],\n",
       "       [0.62032548],\n",
       "       [0.64058172],\n",
       "       [0.63954294],\n",
       "       [0.62898199],\n",
       "       [0.59556787],\n",
       "       [0.60595568],\n",
       "       [0.6341759 ],\n",
       "       [0.67364958],\n",
       "       [0.66135734],\n",
       "       [0.70879501],\n",
       "       [0.70065789],\n",
       "       [0.70394737],\n",
       "       [0.71468144],\n",
       "       [0.71450831],\n",
       "       [0.74463296],\n",
       "       [0.75484765],\n",
       "       [0.72403047],\n",
       "       [0.8640928 ],\n",
       "       [0.88642659],\n",
       "       [1.        ]])"
      ]
     },
     "execution_count": 12,
     "metadata": {},
     "output_type": "execute_result"
    }
   ],
   "source": [
    "df1"
   ]
  },
  {
   "cell_type": "code",
   "execution_count": 15,
   "id": "0cb8fdad",
   "metadata": {},
   "outputs": [],
   "source": [
    "##splitting dataset into train and test split\n",
    "train_size = int(len(df1)* 0.65)\n",
    "test_size = len(df1)-train_size\n",
    "\n",
    "train_data , test_data = df1[:train_size,:],df1[train_size:,]"
   ]
  },
  {
   "cell_type": "code",
   "execution_count": 22,
   "id": "364e1971",
   "metadata": {},
   "outputs": [
    {
     "data": {
      "text/plain": [
       "[<matplotlib.lines.Line2D at 0x22dc2c9abe0>]"
      ]
     },
     "execution_count": 22,
     "metadata": {},
     "output_type": "execute_result"
    },
    {
     "data": {
      "image/png": "[encoded data removed]",
      "text/plain": [
       "<Figure size 1440x720 with 1 Axes>"
      ]
     },
     "metadata": {
      "needs_background": "light"
     },
     "output_type": "display_data"
    }
   ],
   "source": [
    "#plotting graph\n",
    "plt.plot(df1,color= 'blue')\n",
    "plt.plot(train_data,color='red')\n"
   ]
  },
  {
   "cell_type": "markdown",
   "id": "90d4cd0e",
   "metadata": {},
   "source": [
    "## Long Short Term Memory (LSTM)"
   ]
  },
  {
   "cell_type": "code",
   "execution_count": 23,
   "id": "d4b8d33f",
   "metadata": {},
   "outputs": [],
   "source": [
    "import numpy\n",
    "# convert an array of values into a dataset matrix\n",
    "def create_dataset(dataset, time_step =1):\n",
    "        data_X, data_Y = [],[]\n",
    "        for i in range(len(dataset)-time_step-1):\n",
    "            a = dataset[i:(i+time_step), 0] \n",
    "            \n",
    "            data_X.append(a)\n",
    "            data_Y.append(dataset[i+ time_step, 0])\n",
    "        return numpy.array(data_X), numpy.array(data_Y)"
   ]
  },
  {
   "cell_type": "code",
   "execution_count": 26,
   "id": "22a9316e",
   "metadata": {},
   "outputs": [],
   "source": [
    "# reshape into X = t, t+1, t+2 ,t+3 and Y= t+4\n",
    "time_step = 100\n",
    "X_train, y_train = create_dataset(train_data, time_step)\n",
    "X_test, y_test = create_dataset(test_data, time_step)"
   ]
  },
  {
   "cell_type": "code",
   "execution_count": 27,
   "id": "16d224f7",
   "metadata": {},
   "outputs": [
    {
     "name": "stdout",
     "output_type": "stream",
     "text": [
      "(60, 100)\n",
      "(60,)\n"
     ]
    },
    {
     "data": {
      "text/plain": [
       "(None, None)"
      ]
     },
     "execution_count": 27,
     "metadata": {},
     "output_type": "execute_result"
    }
   ],
   "source": [
    "print(X_train.shape), print(y_train.shape)"
   ]
  },
  {
   "cell_type": "code",
   "execution_count": 29,
   "id": "7d9cb9f5",
   "metadata": {},
   "outputs": [
    {
     "name": "stdout",
     "output_type": "stream",
     "text": [
      "(0,)\n",
      "(0,)\n"
     ]
    },
    {
     "data": {
      "text/plain": [
       "(None, None)"
      ]
     },
     "execution_count": 29,
     "metadata": {},
     "output_type": "execute_result"
    }
   ],
   "source": [
    "print(X_test.shape), print(y_test.shape)"
   ]
  },
  {
   "cell_type": "code",
   "execution_count": null,
   "id": "3269fae3",
   "metadata": {},
   "outputs": [],
   "source": []
  }
 ],
 "metadata": {
  "kernelspec": {
   "display_name": "Python 3",
   "language": "python",
   "name": "python3"
  },
  "language_info": {
   "codemirror_mode": {
    "name": "ipython",
    "version": 3
   },
   "file_extension": ".py",
   "mimetype": "text/x-python",
   "name": "python",
   "nbconvert_exporter": "python",
   "pygments_lexer": "ipython3",
   "version": "3.8.8"
  }
 },
 "nbformat": 4,
 "nbformat_minor": 5
}
