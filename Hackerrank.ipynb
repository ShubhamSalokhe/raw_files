{
 "cells": [
  {
   "cell_type": "code",
   "execution_count": 3,
   "id": "be60f1a4",
   "metadata": {},
   "outputs": [
    {
     "name": "stdout",
     "output_type": "stream",
     "text": [
      "1\n",
      "1.0\n",
      "0.0\n"
     ]
    }
   ],
   "source": [
    "import math\n",
    "\n",
    "r, angle = cmath.polar(complex(input()))\n",
    "# Init signature: complex(real=0, imag=0)\n",
    "print(r)\n",
    "print(angle)\n"
   ]
  },
  {
   "cell_type": "code",
   "execution_count": null,
   "id": "2263cab7",
   "metadata": {},
   "outputs": [],
   "source": [
    "print(str(round((math.degrees(math.tan(ab,bc)))))+'°')"
   ]
  },
  {
   "cell_type": "code",
   "execution_count": 1,
   "id": "49afbf2f",
   "metadata": {},
   "outputs": [],
   "source": [
    "import numpy as np"
   ]
  },
  {
   "cell_type": "code",
   "execution_count": 9,
   "id": "a26d7341",
   "metadata": {},
   "outputs": [
    {
     "name": "stdout",
     "output_type": "stream",
     "text": [
      "[2, 4, 6, 2, 9, 1, 0]\n"
     ]
    }
   ],
   "source": [
    "abs = ('2 4 6 2 9 1 0')\n",
    "np = abs.strip().split()\n",
    "\n",
    "xyz =list(map(int,np))\n",
    "print(xyz)"
   ]
  },
  {
   "cell_type": "code",
   "execution_count": 16,
   "id": "fedcefbe",
   "metadata": {},
   "outputs": [
    {
     "name": "stdout",
     "output_type": "stream",
     "text": [
      "4 3 2\n",
      "1 2\n",
      "1 2\n",
      "1 2\n",
      "3 4\n",
      "3 4\n",
      "3 4\n",
      "3 4\n",
      "[['1' '2']\n",
      " ['1' '2']\n",
      " ['1' '2']\n",
      " ['3' '4']\n",
      " ['3' '4']\n",
      " ['3' '4']\n",
      " ['3' '4']]\n"
     ]
    }
   ],
   "source": [
    "import numpy as np\n",
    "N, M, P = map(int,input().strip().split())\n",
    "\n",
    "arr = np.array([input().strip().split() for i in range(N+M)])\n",
    "\n",
    "print(arr)\n"
   ]
  },
  {
   "cell_type": "code",
   "execution_count": null,
   "id": "5c500d5a",
   "metadata": {},
   "outputs": [],
   "source": []
  }
 ],
 "metadata": {
  "kernelspec": {
   "display_name": "Python 3",
   "language": "python",
   "name": "python3"
  },
  "language_info": {
   "codemirror_mode": {
    "name": "ipython",
    "version": 3
   },
   "file_extension": ".py",
   "mimetype": "text/x-python",
   "name": "python",
   "nbconvert_exporter": "python",
   "pygments_lexer": "ipython3",
   "version": "3.8.8"
  }
 },
 "nbformat": 4,
 "nbformat_minor": 5
}
