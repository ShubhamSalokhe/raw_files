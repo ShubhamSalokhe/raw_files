{
 "cells": [
  {
   "cell_type": "code",
   "execution_count": 2,
   "id": "b8f7e22b",
   "metadata": {},
   "outputs": [],
   "source": [
    "list = [5,6,7,2,8,3, 4, 8]"
   ]
  },
  {
   "cell_type": "code",
   "execution_count": 8,
   "id": "1701cb1a",
   "metadata": {},
   "outputs": [],
   "source": [
    "list.sort()"
   ]
  },
  {
   "cell_type": "code",
   "execution_count": 10,
   "id": "ba1229aa",
   "metadata": {},
   "outputs": [
    {
     "data": {
      "text/plain": [
       "[2, 3, 4, 5, 6, 7, 8, 8]"
      ]
     },
     "execution_count": 10,
     "metadata": {},
     "output_type": "execute_result"
    }
   ],
   "source": [
    "list"
   ]
  },
  {
   "cell_type": "code",
   "execution_count": 11,
   "id": "380569c5",
   "metadata": {},
   "outputs": [],
   "source": [
    "i = list[0]"
   ]
  },
  {
   "cell_type": "code",
   "execution_count": 12,
   "id": "26e6e816",
   "metadata": {},
   "outputs": [
    {
     "data": {
      "text/plain": [
       "2"
      ]
     },
     "execution_count": 12,
     "metadata": {},
     "output_type": "execute_result"
    }
   ],
   "source": [
    "i"
   ]
  },
  {
   "cell_type": "code",
   "execution_count": 59,
   "id": "7a08001f",
   "metadata": {},
   "outputs": [],
   "source": [
    "def missing_and_duplicates_list(list):\n",
    "    \n",
    "    single_nums=[]   #list for single occure \n",
    "    duplicate = []   #list for more that one occure \n",
    "    full_list = []   #list without duplicates \n",
    "    \n",
    "    missing=[]   #list of missing nums\n",
    "    list.sort()  #sort out ascending order \n",
    "    \n",
    "\n",
    "    for i in list:            # for loop for \n",
    "        if i not in single_nums:\n",
    "            single_nums.append(i)\n",
    "            single_nums.sort()\n",
    "            \n",
    "        elif i not in duplicate:\n",
    "            duplicate.append(i)\n",
    "            duplicate.sort()\n",
    "        else:\n",
    "            pass\n",
    "    \n",
    "\n",
    "    for k in range(single_nums[0],single_nums[-1]):\n",
    "        full_list.append(k)\n",
    "        if k not in  single_nums:\n",
    "            missing.append(k)\n",
    "            missing.sort()\n",
    "    print(duplicate)\n",
    "    print(missing)\n",
    "    print(single_nums)\n",
    "    print(full_list)\n",
    "    print(list)"
   ]
  },
  {
   "cell_type": "code",
   "execution_count": 61,
   "id": "f92a62bb",
   "metadata": {},
   "outputs": [
    {
     "ename": "NameError",
     "evalue": "name 'num' is not defined",
     "output_type": "error",
     "traceback": [
      "\u001b[1;31m---------------------------------------------------------------------------\u001b[0m",
      "\u001b[1;31mNameError\u001b[0m                                 Traceback (most recent call last)",
      "\u001b[1;32m<ipython-input-61-8bf83f7f28a7>\u001b[0m in \u001b[0;36m<module>\u001b[1;34m\u001b[0m\n\u001b[1;32m----> 1\u001b[1;33m \u001b[0ma\u001b[0m \u001b[1;33m=\u001b[0m \u001b[1;33m[\u001b[0m\u001b[0mint\u001b[0m\u001b[1;33m(\u001b[0m\u001b[0mnum\u001b[0m\u001b[1;33m)\u001b[0m \u001b[1;32mfor\u001b[0m \u001b[0mnum\u001b[0m \u001b[1;32min\u001b[0m \u001b[0minput\u001b[0m\u001b[1;33m(\u001b[0m\u001b[1;34m\"Enter digits: {}\"\u001b[0m\u001b[1;33m,\u001b[0m\u001b[0mformat\u001b[0m\u001b[1;33m(\u001b[0m\u001b[0mnum\u001b[0m\u001b[1;33m)\u001b[0m\u001b[1;33m)\u001b[0m\u001b[1;33m.\u001b[0m\u001b[0msplit\u001b[0m\u001b[1;33m(\u001b[0m\u001b[1;33m)\u001b[0m\u001b[1;33m]\u001b[0m\u001b[1;33m\u001b[0m\u001b[1;33m\u001b[0m\u001b[0m\n\u001b[0m\u001b[0;32m      2\u001b[0m \u001b[1;31m# a = [5, 6, 7, 2, 8, 3, 4, 8, 12, 15, 25, 21, 15 ,6]\u001b[0m\u001b[1;33m\u001b[0m\u001b[1;33m\u001b[0m\u001b[1;33m\u001b[0m\u001b[0m\n\u001b[0;32m      3\u001b[0m \u001b[0mmissing_and_duplicates_list\u001b[0m\u001b[1;33m(\u001b[0m\u001b[0ma\u001b[0m\u001b[1;33m)\u001b[0m\u001b[1;33m\u001b[0m\u001b[1;33m\u001b[0m\u001b[0m\n",
      "\u001b[1;31mNameError\u001b[0m: name 'num' is not defined"
     ]
    }
   ],
   "source": [
    "a = [int(num) for num in input(\"Enter digits: {}\",format(num)).split()]\n",
    "# a = [5, 6, 7, 2, 8, 3, 4, 8, 12, 15, 25, 21, 15 ,6]\n",
    "missing_and_duplicates_list(a)"
   ]
  },
  {
   "cell_type": "code",
   "execution_count": 41,
   "id": "55560474",
   "metadata": {},
   "outputs": [
    {
     "name": "stdout",
     "output_type": "stream",
     "text": [
      "[]\n",
      "[25, 25, 25, 25, 25, 25, 25, 25, 25, 25, 25, 25, 25, 25, 25, 25, 25, 25, 25, 25, 25, 25, 25, 25]\n",
      "[]\n",
      "[2, 3, 4, 5, 6, 6, 7, 8, 8, 12, 15, 15, 21, 25]\n"
     ]
    }
   ],
   "source": [
    "missing_and_duplicates_list(a)"
   ]
  },
  {
   "cell_type": "code",
   "execution_count": 16,
   "id": "cc1127ce",
   "metadata": {},
   "outputs": [
    {
     "ename": "NameError",
     "evalue": "name 'duplicates' is not defined",
     "output_type": "error",
     "traceback": [
      "\u001b[1;31m---------------------------------------------------------------------------\u001b[0m",
      "\u001b[1;31mNameError\u001b[0m                                 Traceback (most recent call last)",
      "\u001b[1;32m<ipython-input-16-debf4fae0e51>\u001b[0m in \u001b[0;36m<module>\u001b[1;34m\u001b[0m\n\u001b[1;32m----> 1\u001b[1;33m \u001b[0mprint\u001b[0m\u001b[1;33m(\u001b[0m\u001b[0mduplicates\u001b[0m\u001b[1;33m)\u001b[0m\u001b[1;33m\u001b[0m\u001b[1;33m\u001b[0m\u001b[0m\n\u001b[0m\u001b[0;32m      2\u001b[0m \u001b[0mprint\u001b[0m\u001b[1;33m(\u001b[0m\u001b[0mmissing\u001b[0m\u001b[1;33m)\u001b[0m\u001b[1;33m\u001b[0m\u001b[1;33m\u001b[0m\u001b[0m\n\u001b[0;32m      3\u001b[0m \u001b[0mprint\u001b[0m\u001b[1;33m(\u001b[0m\u001b[0mfull_list\u001b[0m\u001b[1;33m)\u001b[0m\u001b[1;33m\u001b[0m\u001b[1;33m\u001b[0m\u001b[0m\n",
      "\u001b[1;31mNameError\u001b[0m: name 'duplicates' is not defined"
     ]
    }
   ],
   "source": [
    "print(duplicates)\n",
    "print(missing)\n",
    "print(full_list)"
   ]
  },
  {
   "cell_type": "code",
   "execution_count": null,
   "id": "ba602315",
   "metadata": {},
   "outputs": [],
   "source": []
  }
 ],
 "metadata": {
  "kernelspec": {
   "display_name": "Python 3",
   "language": "python",
   "name": "python3"
  },
  "language_info": {
   "codemirror_mode": {
    "name": "ipython",
    "version": 3
   },
   "file_extension": ".py",
   "mimetype": "text/x-python",
   "name": "python",
   "nbconvert_exporter": "python",
   "pygments_lexer": "ipython3",
   "version": "3.8.8"
  }
 },
 "nbformat": 4,
 "nbformat_minor": 5
}
