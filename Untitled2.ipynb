{
 "cells": [
  {
   "cell_type": "code",
   "execution_count": 2,
   "id": "10080c0e",
   "metadata": {},
   "outputs": [
    {
     "name": "stdout",
     "output_type": "stream",
     "text": [
      "2\n",
      "3\n",
      "df\n",
      "fdf\n",
      "gfgf\n"
     ]
    }
   ],
   "source": [
    "t = int(input())\n",
    "n = int(input())\n",
    "for j in range(t): # no of days \n",
    "    lst = []\n",
    "    for i in range(n):# no of sub \n",
    "        s=input()\n",
    "        string= s.split()\n",
    "        split1 = list(map(int,spits[-1].split(\":\")))\n",
    "        split2 = list(map(int,spits[-2].split(\":\")))\n",
    "        hours = split1[0]-split2[0]\n",
    "        minute = (split1[1]/60)- (split2[1]/60)\n",
    "        print(hours,minute)\n",
    "        total_minutes = (hours*60)+(minute)\n",
    "        lst.append(total_minutes) \n",
    "    lst.sort()\n",
    "    \n",
    "    \n",
    "    \n",
    "        \n",
    "    \n",
    "\n"
   ]
  },
  {
   "cell_type": "code",
   "execution_count": 4,
   "id": "c2aa4629",
   "metadata": {},
   "outputs": [],
   "source": [
    "text = \"maths 10:00 11:00\"\n",
    "string= text.split()\n",
    "split1 = list(map(int,spits[-1].split(\":\")))\n",
    "split2 = list(map(int,spits[-2].split(\":\")))\n",
    "hours = split1[0]-split2[0]\n",
    "minute = (split1[1]/60)- (split2[1]/60)\n",
    "print(hours,minute)\n",
    "total _minutes = (hours*60)+(minute)"
   ]
  },
  {
   "cell_type": "code",
   "execution_count": 28,
   "id": "5b78ae62",
   "metadata": {},
   "outputs": [],
   "source": [
    "split1 = list(map(int,spits[-1].split(\":\")))\n",
    "split2 = list(map(int,spits[-2].split(\":\")))\n",
    "hours = split1[0]-split2[0]\n",
    "minute = (split1[1]/60)- (split2[1]/60)\n",
    "print(hours,minute)\n",
    "total _minutes = (hours*60)+(minute)"
   ]
  },
  {
   "cell_type": "code",
   "execution_count": 32,
   "id": "52096b78",
   "metadata": {},
   "outputs": [
    {
     "name": "stdout",
     "output_type": "stream",
     "text": [
      "1 0\n"
     ]
    }
   ],
   "source": []
  },
  {
   "cell_type": "code",
   "execution_count": 29,
   "id": "a7d18e01",
   "metadata": {},
   "outputs": [
    {
     "name": "stdout",
     "output_type": "stream",
     "text": [
      "[11, 0] [10, 0]\n"
     ]
    }
   ],
   "source": [
    "print(split1, split2)"
   ]
  },
  {
   "cell_type": "code",
   "execution_count": 25,
   "id": "e42ea107",
   "metadata": {},
   "outputs": [],
   "source": [
    "x = list(map(int, split2))"
   ]
  },
  {
   "cell_type": "code",
   "execution_count": 33,
   "id": "20017e47",
   "metadata": {},
   "outputs": [
    {
     "data": {
      "text/plain": [
       "0.75"
      ]
     },
     "execution_count": 33,
     "metadata": {},
     "output_type": "execute_result"
    }
   ],
   "source": [
    "45/60"
   ]
  },
  {
   "cell_type": "code",
   "execution_count": 5,
   "id": "6150474e",
   "metadata": {},
   "outputs": [
    {
     "name": "stdout",
     "output_type": "stream",
     "text": [
      "1\n",
      "1\n",
      "2\n",
      "3\n",
      "[0, 1]\n",
      "[0, 1]\n",
      "[0, 1, 2]\n"
     ]
    }
   ],
   "source": [
    "x = int(input())\n",
    "y = int(input())\n",
    "z = int(input())\n",
    "n = int(input())\n",
    "x1 = [p for p in range(x+1)]\n",
    "y1 = [q for q in range(y+1)]\n",
    "z1 = [r for r in range(z+1)]\n",
    "\n",
    "print(x1)\n",
    "print(y1)\n",
    "print(z1)"
   ]
  },
  {
   "cell_type": "code",
   "execution_count": 8,
   "id": "b0d9d141",
   "metadata": {},
   "outputs": [],
   "source": [
    "lst = []\n",
    "for i in x1:\n",
    "    for j in y1:\n",
    "        for k in z1:\n",
    "            lst.append([i,j,k])\n",
    "            "
   ]
  },
  {
   "cell_type": "code",
   "execution_count": 7,
   "id": "ed7ff0ba",
   "metadata": {},
   "outputs": [
    {
     "data": {
      "text/plain": [
       "[[0, 0, 0],\n",
       " [0, 0, 1],\n",
       " [0, 0, 2],\n",
       " [0, 1, 0],\n",
       " [0, 1, 1],\n",
       " [0, 1, 2],\n",
       " [1, 0, 0],\n",
       " [1, 0, 1],\n",
       " [1, 0, 2],\n",
       " [1, 1, 0],\n",
       " [1, 1, 1],\n",
       " [1, 1, 2]]"
      ]
     },
     "execution_count": 7,
     "metadata": {},
     "output_type": "execute_result"
    }
   ],
   "source": [
    "per = [[i,j,k] for i in x1 for j in y1 for k in z1]\n",
    "per"
   ]
  },
  {
   "cell_type": "code",
   "execution_count": 9,
   "id": "3b3f661a",
   "metadata": {},
   "outputs": [
    {
     "data": {
      "text/plain": [
       "[[0, 0, 0],\n",
       " [0, 0, 1],\n",
       " [0, 0, 2],\n",
       " [0, 1, 0],\n",
       " [0, 1, 1],\n",
       " [0, 1, 2],\n",
       " [1, 0, 0],\n",
       " [1, 0, 1],\n",
       " [1, 0, 2],\n",
       " [1, 1, 0],\n",
       " [1, 1, 1],\n",
       " [1, 1, 2]]"
      ]
     },
     "execution_count": 9,
     "metadata": {},
     "output_type": "execute_result"
    }
   ],
   "source": [
    "lst"
   ]
  },
  {
   "cell_type": "code",
   "execution_count": 10,
   "id": "e4ac9458",
   "metadata": {},
   "outputs": [
    {
     "name": "stdout",
     "output_type": "stream",
     "text": [
      "[[0, 0, 0], [0, 0, 1], [0, 0, 2], [0, 1, 0], [0, 1, 1], [1, 0, 0], [1, 0, 1], [1, 1, 0], [1, 1, 2]]\n"
     ]
    }
   ],
   "source": [
    "result = [l for l in lst if sum(l) !=n]\n",
    "print(result)"
   ]
  },
  {
   "cell_type": "code",
   "execution_count": 3,
   "id": "7d45c899",
   "metadata": {},
   "outputs": [],
   "source": [
    "import PyPDF2 as pdf\n",
    "import pandas as pd"
   ]
  },
  {
   "cell_type": "code",
   "execution_count": 9,
   "id": "21f27c24",
   "metadata": {},
   "outputs": [],
   "source": [
    "df = open('CummulativeCovidVaccinationReport07January2022.pdf',\"rb\")"
   ]
  },
  {
   "cell_type": "code",
   "execution_count": 10,
   "id": "32c4688b",
   "metadata": {},
   "outputs": [],
   "source": [
    "pdfReader = pdf.PdfFileReader(df)"
   ]
  },
  {
   "cell_type": "code",
   "execution_count": 11,
   "id": "34ce15f7",
   "metadata": {},
   "outputs": [
    {
     "name": "stdout",
     "output_type": "stream",
     "text": [
      "<PyPDF2.pdf.PdfFileReader object at 0x0000028EF37AD6D0>\n"
     ]
    }
   ],
   "source": [
    "print(pdfReader)"
   ]
  },
  {
   "cell_type": "code",
   "execution_count": 12,
   "id": "ff9d4553",
   "metadata": {},
   "outputs": [],
   "source": [
    "pageObj = pdfReader.getPage(0)"
   ]
  },
  {
   "cell_type": "code",
   "execution_count": 15,
   "id": "7863c0e4",
   "metadata": {},
   "outputs": [],
   "source": [
    "extract= pageObj.extractText()"
   ]
  },
  {
   "cell_type": "code",
   "execution_count": 16,
   "id": "f293646c",
   "metadata": {},
   "outputs": [
    {
     "data": {
      "text/plain": [
       "2476"
      ]
     },
     "execution_count": 16,
     "metadata": {},
     "output_type": "execute_result"
    }
   ],
   "source": [
    "len(extract)"
   ]
  },
  {
   "cell_type": "code",
   "execution_count": 28,
   "id": "a7023665",
   "metadata": {},
   "outputs": [
    {
     "name": "stdout",
     "output_type": "stream",
     "text": [
      "(As on 08 Jan'22 at 7 AM)\n",
      "15-18 Years\n",
      "1st Dose\n",
      "2nd Dose\n",
      "Total Doses\n",
      "1st Dose\n",
      "85,83,23,079\n",
      "62,76,35,244\n",
      "1,48,59,58,323\n",
      "2,02,34,580\n",
      "(22,72,120 in last 24 \n",
      "Hours )\n",
      "(35,31,325 in last 24 \n",
      "Hours)\n",
      "(58,03,445 in last 24 \n",
      "Hours)\n",
      "(32,55,915 in last 24 \n",
      "Hours )\n",
      "0\n",
      "0\n",
      "0\n",
      "0\n",
      "15-18 Years\n",
      "1st Dose\n",
      "2nd Dose\n",
      "Total Doses\n",
      "1st Dose\n",
      "1\n",
      "A & N Islands\n",
      "3,03,740\n",
      "2,95,713\n",
      "5,99,453\n",
      "9,968\n",
      "2\n",
      "Andhra Pradesh\n",
      "4,00,82,487\n",
      "3,07,28,752\n",
      "7,08,11,239\n",
      "17,99,919\n",
      "3\n",
      "Arunachal Pradesh\n",
      "8,11,910\n",
      "6,55,590\n",
      "14,67,500\n",
      "12,199\n",
      "4\n",
      "Assam\n",
      "2,19,27,601\n",
      "1,62,50,752\n",
      "3,81,78,353\n",
      "5,45,176\n",
      "5\n",
      "Bihar\n",
      "5,84,94,171\n",
      "4,33,15,480\n",
      "10,18,09,651\n",
      "13,33,297\n",
      "6\n",
      "Chandigarh\n",
      "10,28,191\n",
      "7,97,205\n",
      "1825396\n",
      "12278\n",
      "7\n",
      "Chhattisgarh\n",
      "1,79,77,433\n",
      "1,25,78,825\n",
      "3,05,56,258\n",
      "6,93,543\n",
      "8\n",
      "Dadra & Nagar \n",
      "Haveli\n",
      "4,14,480\n",
      "2,94,941\n",
      "709421\n",
      "14213\n",
      "9\n",
      "Daman & Diu\n",
      "2,93,562\n",
      "2,43,997\n",
      "537559\n",
      "8884\n",
      "10\n",
      "Delhi\n",
      "1,56,03,453\n",
      "1,15,73,778\n",
      "2,71,77,231\n",
      "2,04,882\n",
      "11\n",
      "Goa\n",
      "13,19,508\n",
      "11,20,515\n",
      "2440023\n",
      "33305\n",
      "12\n",
      "Gujarat\n",
      "4,75,82,358\n",
      "4,33,84,764\n",
      "9,09,67,122\n",
      "17,71,871\n",
      "13\n",
      "Haryana\n",
      "2,07,73,925\n",
      "1,52,03,393\n",
      "3,59,77,318\n",
      "5,28,002\n",
      "14\n",
      "Himachal Pradesh\n",
      "59,29,163\n",
      "55,11,230\n",
      "1,14,40,393\n",
      "2,40,811\n",
      "15\n",
      "Jammu & Kashmir\n",
      "97,43,018\n",
      "92,82,520\n",
      "1,90,25,538\n",
      "1,85,636\n",
      "16\n",
      "Jharkhand\n",
      "1,90,00,422\n",
      "1,16,98,643\n",
      "3,06,99,065\n",
      "2,62,095\n",
      "17\n",
      "Karnataka\n",
      "4,83,05,734\n",
      "3,95,27,725\n",
      "8,78,33,459\n",
      "15,26,215\n",
      "18\n",
      "Kerala\n",
      "2,63,70,455\n",
      "2,15,58,246\n",
      "4,79,28,701\n",
      "3,18,610\n",
      "19\n",
      "Ladakh\n",
      "2,15,780\n",
      "1,76,050\n",
      "391830\n",
      "5018\n",
      "20\n",
      "Lakshadweep\n",
      "56,175\n",
      "53,092\n",
      "109267\n",
      "1823\n",
      "21\n",
      "Madhya Pradesh\n",
      "5,27,43,860\n",
      "5,05,20,223\n",
      "10,32,64,083\n",
      "19,70,970\n",
      "22\n",
      "Maharashtra\n",
      "8,11,97,428\n",
      "5,56,26,731\n",
      "13,68,24,159\n",
      "14,83,877\n",
      "23\n",
      "Manipur\n",
      "13,33,806\n",
      "10,05,182\n",
      "2338988\n",
      "4381\n",
      "24\n",
      "Meghalaya\n",
      "12,43,080\n",
      "8,95,169\n",
      "2138249\n",
      "5912\n",
      "25\n",
      "Mizoram\n",
      "7,50,199\n",
      "5,91,411\n",
      "1341610\n",
      "10392\n",
      "26\n",
      "Nagaland\n",
      "7,60,450\n",
      "5,79,961\n",
      "13,40,411\n",
      "1,200\n",
      "27\n",
      "Odisha\n",
      "2,96,97,758\n",
      "2,18,70,982\n",
      "5,15,68,740\n",
      "4,12,003\n",
      "28\n",
      "Puducherry\n",
      "8,55,834\n",
      "5,76,678\n",
      "1432512\n",
      "18928\n",
      "29\n",
      "Punjab\n",
      "1,74,12,664\n",
      "97,91,030\n",
      "2,72,03,694\n",
      "24,683\n",
      "30\n",
      "Rajasthan\n",
      "4,74,88,007\n",
      "3,60,61,353\n",
      "8,35,49,360\n",
      "16,18,130\n",
      "31\n",
      "Sikkim\n",
      "5,29,700\n",
      "4,84,483\n",
      "1014183\n",
      "10557\n",
      "32\n",
      "Tamil Nadu\n",
      "5,06,72,703\n",
      "3,48,27,655\n",
      "8,55,00,358\n",
      "14,63,852\n",
      "33\n",
      "Telangana\n",
      "2,82,68,742\n",
      "1,98,90,649\n",
      "4,81,59,391\n",
      "6,08,895\n",
      "34\n",
      "Tripura\n",
      "25,99,926\n",
      "21,39,818\n",
      "47,39,744\n",
      "70,887\n",
      "35\n",
      "Uttar Pradesh\n",
      "13,11,71,604\n",
      "7,77,02,415\n",
      "20,88,74,019\n",
      "17,16,491\n",
      "36\n",
      "Uttarakhand\n",
      "79,08,600\n",
      "65,51,063\n",
      "1,44,59,663\n",
      "2,66,268\n",
      "37\n",
      "West Bengal\n",
      "6,52,17,243\n",
      "4,26,98,608\n",
      "10,79,15,851\n",
      "10,39,409\n",
      "38\n",
      "Miscellaneous\n",
      "22,37,909\n",
      "15,70,622\n",
      "38,08,531\n",
      "0\n",
      "Beneficiaries Vaccinated\n",
      "18+ Population\n",
      "Cumulative Coverage Report of COVID-19 Vaccination\n",
      "S. No.\n",
      "State/UT\n",
      "Beneficiaries Vaccinated\n",
      "18+ Population\n",
      "\n"
     ]
    }
   ],
   "source": [
    "print(extract)"
   ]
  },
  {
   "cell_type": "code",
   "execution_count": 29,
   "id": "3d18d4b8",
   "metadata": {},
   "outputs": [
    {
     "data": {
      "text/plain": [
       "['(As',\n",
       " 'on',\n",
       " '08',\n",
       " \"Jan'22\",\n",
       " 'at',\n",
       " '7',\n",
       " 'AM)',\n",
       " '15-18',\n",
       " 'Years',\n",
       " '1st',\n",
       " 'Dose',\n",
       " '2nd',\n",
       " 'Dose',\n",
       " 'Total',\n",
       " 'Doses',\n",
       " '1st',\n",
       " 'Dose',\n",
       " '85,83,23,079',\n",
       " '62,76,35,244',\n",
       " '1,48,59,58,323',\n",
       " '2,02,34,580',\n",
       " '(22,72,120',\n",
       " 'in',\n",
       " 'last',\n",
       " '24',\n",
       " 'Hours',\n",
       " ')',\n",
       " '(35,31,325',\n",
       " 'in',\n",
       " 'last',\n",
       " '24',\n",
       " 'Hours)',\n",
       " '(58,03,445',\n",
       " 'in',\n",
       " 'last',\n",
       " '24',\n",
       " 'Hours)',\n",
       " '(32,55,915',\n",
       " 'in',\n",
       " 'last',\n",
       " '24',\n",
       " 'Hours',\n",
       " ')',\n",
       " '0',\n",
       " '0',\n",
       " '0',\n",
       " '0',\n",
       " '15-18',\n",
       " 'Years',\n",
       " '1st',\n",
       " 'Dose',\n",
       " '2nd',\n",
       " 'Dose',\n",
       " 'Total',\n",
       " 'Doses',\n",
       " '1st',\n",
       " 'Dose',\n",
       " '1',\n",
       " 'A',\n",
       " '&',\n",
       " 'N',\n",
       " 'Islands',\n",
       " '3,03,740',\n",
       " '2,95,713',\n",
       " '5,99,453',\n",
       " '9,968',\n",
       " '2',\n",
       " 'Andhra',\n",
       " 'Pradesh',\n",
       " '4,00,82,487',\n",
       " '3,07,28,752',\n",
       " '7,08,11,239',\n",
       " '17,99,919',\n",
       " '3',\n",
       " 'Arunachal',\n",
       " 'Pradesh',\n",
       " '8,11,910',\n",
       " '6,55,590',\n",
       " '14,67,500',\n",
       " '12,199',\n",
       " '4',\n",
       " 'Assam',\n",
       " '2,19,27,601',\n",
       " '1,62,50,752',\n",
       " '3,81,78,353',\n",
       " '5,45,176',\n",
       " '5',\n",
       " 'Bihar',\n",
       " '5,84,94,171',\n",
       " '4,33,15,480',\n",
       " '10,18,09,651',\n",
       " '13,33,297',\n",
       " '6',\n",
       " 'Chandigarh',\n",
       " '10,28,191',\n",
       " '7,97,205',\n",
       " '1825396',\n",
       " '12278',\n",
       " '7',\n",
       " 'Chhattisgarh',\n",
       " '1,79,77,433',\n",
       " '1,25,78,825',\n",
       " '3,05,56,258',\n",
       " '6,93,543',\n",
       " '8',\n",
       " 'Dadra',\n",
       " '&',\n",
       " 'Nagar',\n",
       " 'Haveli',\n",
       " '4,14,480',\n",
       " '2,94,941',\n",
       " '709421',\n",
       " '14213',\n",
       " '9',\n",
       " 'Daman',\n",
       " '&',\n",
       " 'Diu',\n",
       " '2,93,562',\n",
       " '2,43,997',\n",
       " '537559',\n",
       " '8884',\n",
       " '10',\n",
       " 'Delhi',\n",
       " '1,56,03,453',\n",
       " '1,15,73,778',\n",
       " '2,71,77,231',\n",
       " '2,04,882',\n",
       " '11',\n",
       " 'Goa',\n",
       " '13,19,508',\n",
       " '11,20,515',\n",
       " '2440023',\n",
       " '33305',\n",
       " '12',\n",
       " 'Gujarat',\n",
       " '4,75,82,358',\n",
       " '4,33,84,764',\n",
       " '9,09,67,122',\n",
       " '17,71,871',\n",
       " '13',\n",
       " 'Haryana',\n",
       " '2,07,73,925',\n",
       " '1,52,03,393',\n",
       " '3,59,77,318',\n",
       " '5,28,002',\n",
       " '14',\n",
       " 'Himachal',\n",
       " 'Pradesh',\n",
       " '59,29,163',\n",
       " '55,11,230',\n",
       " '1,14,40,393',\n",
       " '2,40,811',\n",
       " '15',\n",
       " 'Jammu',\n",
       " '&',\n",
       " 'Kashmir',\n",
       " '97,43,018',\n",
       " '92,82,520',\n",
       " '1,90,25,538',\n",
       " '1,85,636',\n",
       " '16',\n",
       " 'Jharkhand',\n",
       " '1,90,00,422',\n",
       " '1,16,98,643',\n",
       " '3,06,99,065',\n",
       " '2,62,095',\n",
       " '17',\n",
       " 'Karnataka',\n",
       " '4,83,05,734',\n",
       " '3,95,27,725',\n",
       " '8,78,33,459',\n",
       " '15,26,215',\n",
       " '18',\n",
       " 'Kerala',\n",
       " '2,63,70,455',\n",
       " '2,15,58,246',\n",
       " '4,79,28,701',\n",
       " '3,18,610',\n",
       " '19',\n",
       " 'Ladakh',\n",
       " '2,15,780',\n",
       " '1,76,050',\n",
       " '391830',\n",
       " '5018',\n",
       " '20',\n",
       " 'Lakshadweep',\n",
       " '56,175',\n",
       " '53,092',\n",
       " '109267',\n",
       " '1823',\n",
       " '21',\n",
       " 'Madhya',\n",
       " 'Pradesh',\n",
       " '5,27,43,860',\n",
       " '5,05,20,223',\n",
       " '10,32,64,083',\n",
       " '19,70,970',\n",
       " '22',\n",
       " 'Maharashtra',\n",
       " '8,11,97,428',\n",
       " '5,56,26,731',\n",
       " '13,68,24,159',\n",
       " '14,83,877',\n",
       " '23',\n",
       " 'Manipur',\n",
       " '13,33,806',\n",
       " '10,05,182',\n",
       " '2338988',\n",
       " '4381',\n",
       " '24',\n",
       " 'Meghalaya',\n",
       " '12,43,080',\n",
       " '8,95,169',\n",
       " '2138249',\n",
       " '5912',\n",
       " '25',\n",
       " 'Mizoram',\n",
       " '7,50,199',\n",
       " '5,91,411',\n",
       " '1341610',\n",
       " '10392',\n",
       " '26',\n",
       " 'Nagaland',\n",
       " '7,60,450',\n",
       " '5,79,961',\n",
       " '13,40,411',\n",
       " '1,200',\n",
       " '27',\n",
       " 'Odisha',\n",
       " '2,96,97,758',\n",
       " '2,18,70,982',\n",
       " '5,15,68,740',\n",
       " '4,12,003',\n",
       " '28',\n",
       " 'Puducherry',\n",
       " '8,55,834',\n",
       " '5,76,678',\n",
       " '1432512',\n",
       " '18928',\n",
       " '29',\n",
       " 'Punjab',\n",
       " '1,74,12,664',\n",
       " '97,91,030',\n",
       " '2,72,03,694',\n",
       " '24,683',\n",
       " '30',\n",
       " 'Rajasthan',\n",
       " '4,74,88,007',\n",
       " '3,60,61,353',\n",
       " '8,35,49,360',\n",
       " '16,18,130',\n",
       " '31',\n",
       " 'Sikkim',\n",
       " '5,29,700',\n",
       " '4,84,483',\n",
       " '1014183',\n",
       " '10557',\n",
       " '32',\n",
       " 'Tamil',\n",
       " 'Nadu',\n",
       " '5,06,72,703',\n",
       " '3,48,27,655',\n",
       " '8,55,00,358',\n",
       " '14,63,852',\n",
       " '33',\n",
       " 'Telangana',\n",
       " '2,82,68,742',\n",
       " '1,98,90,649',\n",
       " '4,81,59,391',\n",
       " '6,08,895',\n",
       " '34',\n",
       " 'Tripura',\n",
       " '25,99,926',\n",
       " '21,39,818',\n",
       " '47,39,744',\n",
       " '70,887',\n",
       " '35',\n",
       " 'Uttar',\n",
       " 'Pradesh',\n",
       " '13,11,71,604',\n",
       " '7,77,02,415',\n",
       " '20,88,74,019',\n",
       " '17,16,491',\n",
       " '36',\n",
       " 'Uttarakhand',\n",
       " '79,08,600',\n",
       " '65,51,063',\n",
       " '1,44,59,663',\n",
       " '2,66,268',\n",
       " '37',\n",
       " 'West',\n",
       " 'Bengal',\n",
       " '6,52,17,243',\n",
       " '4,26,98,608',\n",
       " '10,79,15,851',\n",
       " '10,39,409',\n",
       " '38',\n",
       " 'Miscellaneous',\n",
       " '22,37,909',\n",
       " '15,70,622',\n",
       " '38,08,531',\n",
       " '0',\n",
       " 'Beneficiaries',\n",
       " 'Vaccinated',\n",
       " '18+',\n",
       " 'Population',\n",
       " 'Cumulative',\n",
       " 'Coverage',\n",
       " 'Report',\n",
       " 'of',\n",
       " 'COVID-19',\n",
       " 'Vaccination',\n",
       " 'S.',\n",
       " 'No.',\n",
       " 'State/UT',\n",
       " 'Beneficiaries',\n",
       " 'Vaccinated',\n",
       " '18+',\n",
       " 'Population']"
      ]
     },
     "execution_count": 29,
     "metadata": {},
     "output_type": "execute_result"
    }
   ],
   "source": [
    "extract.split()"
   ]
  },
  {
   "cell_type": "code",
   "execution_count": 31,
   "id": "561b8793",
   "metadata": {},
   "outputs": [],
   "source": [
    "splitex = extract.split()"
   ]
  },
  {
   "cell_type": "code",
   "execution_count": 41,
   "id": "65a8076e",
   "metadata": {},
   "outputs": [
    {
     "data": {
      "text/plain": [
       "['Maharashtra', '8,11,97,428', '5,56,26,731', '13,68,24,159', '14,83,877']"
      ]
     },
     "execution_count": 41,
     "metadata": {},
     "output_type": "execute_result"
    }
   ],
   "source": [
    "splitex[198:203]"
   ]
  },
  {
   "cell_type": "code",
   "execution_count": 42,
   "id": "24dc31ef",
   "metadata": {},
   "outputs": [
    {
     "data": {
      "text/plain": [
       "319"
      ]
     },
     "execution_count": 42,
     "metadata": {},
     "output_type": "execute_result"
    }
   ],
   "source": [
    "len(splitex)"
   ]
  },
  {
   "cell_type": "code",
   "execution_count": 45,
   "id": "f9f57cc8",
   "metadata": {},
   "outputs": [],
   "source": [
    "x =splitex.index(\"Maharashtra\")"
   ]
  },
  {
   "cell_type": "code",
   "execution_count": 48,
   "id": "030317c3",
   "metadata": {},
   "outputs": [
    {
     "name": "stdout",
     "output_type": "stream",
     "text": [
      "['22', 'Maharashtra', '8,11,97,428', '5,56,26,731', '13,68,24,159', '14,83,877']\n"
     ]
    }
   ],
   "source": [
    "print(splitex[(x-1):(x+5)])"
   ]
  },
  {
   "cell_type": "code",
   "execution_count": 59,
   "id": "c8317d1d",
   "metadata": {},
   "outputs": [],
   "source": [
    "v=int(splitex[199].replace(\",\",\"\"))"
   ]
  },
  {
   "cell_type": "code",
   "execution_count": 60,
   "id": "8112cde2",
   "metadata": {},
   "outputs": [
    {
     "name": "stdout",
     "output_type": "stream",
     "text": [
      "81197428\n"
     ]
    }
   ],
   "source": [
    "print(v)"
   ]
  },
  {
   "cell_type": "code",
   "execution_count": null,
   "id": "f81daaad",
   "metadata": {},
   "outputs": [],
   "source": []
  }
 ],
 "metadata": {
  "kernelspec": {
   "display_name": "Python 3",
   "language": "python",
   "name": "python3"
  },
  "language_info": {
   "codemirror_mode": {
    "name": "ipython",
    "version": 3
   },
   "file_extension": ".py",
   "mimetype": "text/x-python",
   "name": "python",
   "nbconvert_exporter": "python",
   "pygments_lexer": "ipython3",
   "version": "3.8.8"
  }
 },
 "nbformat": 4,
 "nbformat_minor": 5
}
