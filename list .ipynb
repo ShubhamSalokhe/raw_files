{
 "cells": [
  {
   "cell_type": "code",
   "execution_count": 15,
   "id": "fb15e207",
   "metadata": {},
   "outputs": [
    {
     "name": "stdout",
     "output_type": "stream",
     "text": [
      "[37.21, 37.21, 37.239, 41, 39]\n",
      "[]\n"
     ]
    }
   ],
   "source": [
    "result= [['Harry',37.21],['Berry',37.21],['Tina',37.2],['Akriti',41],['Harsh',39]]\n",
    "grade = [37.21,37.21,37.239,41,39]\n",
    "print(grade) \n",
    "grade = sorted(set(grade))\n",
    "m = grade[1]\n",
    "name = []\n",
    "for val in result:\n",
    "    if m == val[1]:\n",
    "        name.append(val[0])\n",
    "print(name)\n",
    "name.sort()\n",
    "for nm in name:\n",
    "    print(nm)\n"
   ]
  },
  {
   "cell_type": "code",
   "execution_count": null,
   "id": "31c5d667",
   "metadata": {},
   "outputs": [],
   "source": [
    "5\n",
    "[[Harry,37.21],[Berry,37.21],[Tina,37.2],[Akriti,41],[Harsh,39]]"
   ]
  },
  {
   "cell_type": "code",
   "execution_count": null,
   "id": "b626942e",
   "metadata": {},
   "outputs": [],
   "source": [
    "grade = sorted(set(grade)\n",
    "\n",
    "for val in res:\n",
    "    if grade[1] == val[1]:\n",
    "        name.append(val[0])\n",
    "name.sort()\n",
    "for nm in name():\n",
    "    print(nm)"
   ]
  },
  {
   "cell_type": "code",
   "execution_count": null,
   "id": "a59e4e2b",
   "metadata": {},
   "outputs": [],
   "source": []
  }
 ],
 "metadata": {
  "kernelspec": {
   "display_name": "Python 3",
   "language": "python",
   "name": "python3"
  },
  "language_info": {
   "codemirror_mode": {
    "name": "ipython",
    "version": 3
   },
   "file_extension": ".py",
   "mimetype": "text/x-python",
   "name": "python",
   "nbconvert_exporter": "python",
   "pygments_lexer": "ipython3",
   "version": "3.8.8"
  }
 },
 "nbformat": 4,
 "nbformat_minor": 5
}
