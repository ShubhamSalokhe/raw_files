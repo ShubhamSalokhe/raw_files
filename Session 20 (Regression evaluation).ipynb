{
 "cells": [
  {
   "cell_type": "markdown",
   "id": "bce43ab0",
   "metadata": {},
   "source": [
    "### Session 20\n",
    "\n",
    "Today's Agenda\n",
    "\n",
    "Regression evaluation metrics\n",
    "Regularisation\n",
    "Regularised regression\n",
    "Classification basics"
   ]
  },
  {
   "cell_type": "code",
   "execution_count": 1,
   "id": "057398e3",
   "metadata": {},
   "outputs": [],
   "source": [
    "import numpy as np\n",
    "import pandas as pd\n",
    "import matplotlib.pyplot as plt\n",
    "import seaborn as sns"
   ]
  },
  {
   "cell_type": "code",
   "execution_count": 2,
   "id": "0ccb6361",
   "metadata": {},
   "outputs": [],
   "source": [
    "df = pd.read_csv(\"Salary_Data.csv\")\n"
   ]
  },
  {
   "cell_type": "code",
   "execution_count": 3,
   "id": "3a410bff",
   "metadata": {},
   "outputs": [],
   "source": [
    "X = df.iloc[:,:-1].values\n",
    "Y = df.iloc[:,-1].values\n"
   ]
  },
  {
   "cell_type": "code",
   "execution_count": 4,
   "id": "5fb06592",
   "metadata": {},
   "outputs": [],
   "source": [
    "from sklearn.model_selection import train_test_split\n",
    "x1,x2,y1,y2 = train_test_split(X,Y,test_size = 0.3, random_state = 5)"
   ]
  },
  {
   "cell_type": "code",
   "execution_count": 5,
   "id": "2ccd94cb",
   "metadata": {},
   "outputs": [
    {
     "data": {
      "text/plain": [
       "LinearRegression()"
      ]
     },
     "execution_count": 5,
     "metadata": {},
     "output_type": "execute_result"
    }
   ],
   "source": [
    "from sklearn.linear_model import LinearRegression\n",
    "model = LinearRegression()\n",
    "model.fit(x1,y1)"
   ]
  },
  {
   "cell_type": "code",
   "execution_count": 6,
   "id": "bb434f96",
   "metadata": {},
   "outputs": [],
   "source": [
    "y_pred = model.predict(x2)"
   ]
  },
  {
   "cell_type": "code",
   "execution_count": 7,
   "id": "40b95903",
   "metadata": {},
   "outputs": [
    {
     "data": {
      "text/plain": [
       "4574.460357716664"
      ]
     },
     "execution_count": 7,
     "metadata": {},
     "output_type": "execute_result"
    }
   ],
   "source": [
    "from sklearn.metrics import mean_absolute_error\n",
    "mean_absolute_error(y_pred,y2)"
   ]
  },
  {
   "cell_type": "code",
   "execution_count": 8,
   "id": "9a999018",
   "metadata": {},
   "outputs": [
    {
     "data": {
      "text/plain": [
       "33315228.09372838"
      ]
     },
     "execution_count": 8,
     "metadata": {},
     "output_type": "execute_result"
    }
   ],
   "source": [
    "from sklearn.metrics import mean_squared_error\n",
    "mean_squared_error(y_pred,y2)"
   ]
  },
  {
   "cell_type": "markdown",
   "id": "40bfae8c",
   "metadata": {},
   "source": [
    "# root mean squared Error"
   ]
  },
  {
   "cell_type": "code",
   "execution_count": 11,
   "id": "65986497",
   "metadata": {},
   "outputs": [
    {
     "data": {
      "text/plain": [
       "5771.934519182315"
      ]
     },
     "execution_count": 11,
     "metadata": {},
     "output_type": "execute_result"
    }
   ],
   "source": [
    "from sklearn.metrics import mean_squared_error\n",
    "mean_squared_error(y_pred,y2,squared= False) "
   ]
  },
  {
   "cell_type": "markdown",
   "id": "f01f3605",
   "metadata": {},
   "source": [
    "# R- Squared score"
   ]
  },
  {
   "cell_type": "code",
   "execution_count": 12,
   "id": "7ccf3291",
   "metadata": {},
   "outputs": [
    {
     "data": {
      "text/plain": [
       "0.9624024983951907"
      ]
     },
     "execution_count": 12,
     "metadata": {},
     "output_type": "execute_result"
    }
   ],
   "source": [
    "model.score(x2,y2) #use test values "
   ]
  },
  {
   "cell_type": "markdown",
   "id": "79985722",
   "metadata": {},
   "source": [
    "## Cross validation score"
   ]
  },
  {
   "cell_type": "code",
   "execution_count": 14,
   "id": "0da4886c",
   "metadata": {},
   "outputs": [
    {
     "data": {
      "text/plain": [
       "array([ 0.53715907, -2.0533746 ,  0.63386634,  0.2211112 ])"
      ]
     },
     "execution_count": 14,
     "metadata": {},
     "output_type": "execute_result"
    }
   ],
   "source": [
    "from sklearn.model_selection import cross_val_score\n",
    "cross_val_score(model, X,Y, cv = 4)"
   ]
  },
  {
   "cell_type": "code",
   "execution_count": null,
   "id": "a07d0637",
   "metadata": {},
   "outputs": [],
   "source": []
  }
 ],
 "metadata": {
  "kernelspec": {
   "display_name": "Python 3",
   "language": "python",
   "name": "python3"
  },
  "language_info": {
   "codemirror_mode": {
    "name": "ipython",
    "version": 3
   },
   "file_extension": ".py",
   "mimetype": "text/x-python",
   "name": "python",
   "nbconvert_exporter": "python",
   "pygments_lexer": "ipython3",
   "version": "3.8.8"
  }
 },
 "nbformat": 4,
 "nbformat_minor": 5
}
